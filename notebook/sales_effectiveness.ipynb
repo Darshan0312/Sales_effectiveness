{
 "cells": [
  {
   "cell_type": "markdown",
   "id": "169520f1",
   "metadata": {
    "id": "169520f1"
   },
   "source": [
    "# Project team's ID : PTID-CDS-OCT-23-1668"
   ]
  },
  {
   "cell_type": "markdown",
   "id": "d4de16d0",
   "metadata": {
    "id": "d4de16d0"
   },
   "source": [
    "# Client: Sales Effectiveness | Category: Product Sales"
   ]
  },
  {
   "cell_type": "markdown",
   "id": "25666f39",
   "metadata": {
    "id": "25666f39"
   },
   "source": [
    "# Project Ref: PM-PR-0019"
   ]
  },
  {
   "cell_type": "markdown",
   "id": "d6888308",
   "metadata": {
    "id": "d6888308"
   },
   "source": [
    "## Business Case Summary: Enhancing Sales Effectiveness through Machine Learning\n",
    "\n",
    "### Company Overview:\n",
    "FicZon Inc is a prominent IT solution provider offering a diverse range of products, including on-premises solutions and Software as a Service (SAAS) offerings. With a primary focus on digital channels and website-driven leads, FicZon has historically thrived on effective sales force management.\n",
    "\n",
    "### Market Challenges:\n",
    "In the face of a maturing market and increased competition, FicZon is witnessing a decline in sales performance. The traditional reliance on manual lead categorization, heavily dependent on the sales team, has become a bottleneck. Lead quality, a pivotal factor in sales effectiveness, is currently determined through post-analysis rather than in real-time.\n",
    "\n",
    "### Opportunity for Improvement:\n",
    "Recognizing the need for innovation, FicZon aims to leverage Machine Learning (ML) to revolutionize the lead categorization process. The objective is to pre-categorize leads based on ML algorithms, providing a more accurate and timely assessment of lead quality."
   ]
  },
  {
   "cell_type": "code",
   "execution_count": 1,
   "id": "bfa1c370",
   "metadata": {
    "id": "bfa1c370"
   },
   "outputs": [],
   "source": [
    "# Importing the necessary libraries\n",
    "import pandas as pd\n",
    "import numpy as np\n",
    "import seaborn as sns\n",
    "import matplotlib.pyplot as plt\n",
    "from sklearn.preprocessing import LabelEncoder\n",
    "from sklearn.model_selection import train_test_split, GridSearchCV, RandomizedSearchCV\n",
    "from imblearn.over_sampling import SMOTE\n",
    "from sklearn.metrics import accuracy_score, classification_report, confusion_matrix"
   ]
  },
  {
   "cell_type": "code",
   "execution_count": 2,
   "id": "fab070f5",
   "metadata": {
    "id": "fab070f5",
    "outputId": "0aac3b26-86ad-4332-9ef6-11ea1efa0c72"
   },
   "outputs": [
    {
     "data": {
      "text/html": [
       "<div>\n",
       "<style scoped>\n",
       "    .dataframe tbody tr th:only-of-type {\n",
       "        vertical-align: middle;\n",
       "    }\n",
       "\n",
       "    .dataframe tbody tr th {\n",
       "        vertical-align: top;\n",
       "    }\n",
       "\n",
       "    .dataframe thead th {\n",
       "        text-align: right;\n",
       "    }\n",
       "</style>\n",
       "<table border=\"1\" class=\"dataframe\">\n",
       "  <thead>\n",
       "    <tr style=\"text-align: right;\">\n",
       "      <th></th>\n",
       "      <th>Created</th>\n",
       "      <th>Product_ID</th>\n",
       "      <th>Source</th>\n",
       "      <th>Mobile</th>\n",
       "      <th>EMAIL</th>\n",
       "      <th>Sales_Agent</th>\n",
       "      <th>Location</th>\n",
       "      <th>Delivery_Mode</th>\n",
       "      <th>Status</th>\n",
       "    </tr>\n",
       "  </thead>\n",
       "  <tbody>\n",
       "    <tr>\n",
       "      <th>0</th>\n",
       "      <td>14-11-2018 10:05</td>\n",
       "      <td>NaN</td>\n",
       "      <td>Website</td>\n",
       "      <td>984XXXXXXX</td>\n",
       "      <td>aXXXXXXX@gmail.com</td>\n",
       "      <td>Sales-Agent-11</td>\n",
       "      <td>NaN</td>\n",
       "      <td>Mode-5</td>\n",
       "      <td>Open</td>\n",
       "    </tr>\n",
       "    <tr>\n",
       "      <th>1</th>\n",
       "      <td>14-11-2018 09:22</td>\n",
       "      <td>NaN</td>\n",
       "      <td>Website</td>\n",
       "      <td>XXXXXXX</td>\n",
       "      <td>#VALUE!</td>\n",
       "      <td>Sales-Agent-10</td>\n",
       "      <td>NaN</td>\n",
       "      <td>Mode-5</td>\n",
       "      <td>Open</td>\n",
       "    </tr>\n",
       "    <tr>\n",
       "      <th>2</th>\n",
       "      <td>14-11-2018 09:21</td>\n",
       "      <td>NaN</td>\n",
       "      <td>Website</td>\n",
       "      <td>XXXXXXX</td>\n",
       "      <td>dXXXXXXX@yahoo.com</td>\n",
       "      <td>Sales-Agent-10</td>\n",
       "      <td>NaN</td>\n",
       "      <td>Mode-5</td>\n",
       "      <td>Open</td>\n",
       "    </tr>\n",
       "    <tr>\n",
       "      <th>3</th>\n",
       "      <td>14-11-2018 08:46</td>\n",
       "      <td>NaN</td>\n",
       "      <td>Website</td>\n",
       "      <td>XXXXXXX</td>\n",
       "      <td>wXXXXXXX@gmail.com</td>\n",
       "      <td>Sales-Agent-10</td>\n",
       "      <td>NaN</td>\n",
       "      <td>Mode-5</td>\n",
       "      <td>Open</td>\n",
       "    </tr>\n",
       "    <tr>\n",
       "      <th>4</th>\n",
       "      <td>14-11-2018 07:34</td>\n",
       "      <td>NaN</td>\n",
       "      <td>Website</td>\n",
       "      <td>XXXXXXX</td>\n",
       "      <td>cXXXXXXX@gmail.com</td>\n",
       "      <td>Sales-Agent-10</td>\n",
       "      <td>NaN</td>\n",
       "      <td>Mode-5</td>\n",
       "      <td>Open</td>\n",
       "    </tr>\n",
       "    <tr>\n",
       "      <th>...</th>\n",
       "      <td>...</td>\n",
       "      <td>...</td>\n",
       "      <td>...</td>\n",
       "      <td>...</td>\n",
       "      <td>...</td>\n",
       "      <td>...</td>\n",
       "      <td>...</td>\n",
       "      <td>...</td>\n",
       "      <td>...</td>\n",
       "    </tr>\n",
       "    <tr>\n",
       "      <th>995</th>\n",
       "      <td>12-10-2018 14:54</td>\n",
       "      <td>9.0</td>\n",
       "      <td>Call</td>\n",
       "      <td>916XXXXXXX</td>\n",
       "      <td>#VALUE!</td>\n",
       "      <td>Sales-Agent-9</td>\n",
       "      <td>Mumbai</td>\n",
       "      <td>Mode-1</td>\n",
       "      <td>Just Enquiry</td>\n",
       "    </tr>\n",
       "    <tr>\n",
       "      <th>996</th>\n",
       "      <td>12-10-2018 14:44</td>\n",
       "      <td>19.0</td>\n",
       "      <td>Website</td>\n",
       "      <td>982XXXXXXX</td>\n",
       "      <td>kXXXXXXX@gmail.com</td>\n",
       "      <td>Sales-Agent-11</td>\n",
       "      <td>Mumbai</td>\n",
       "      <td>Mode-3</td>\n",
       "      <td>Potential</td>\n",
       "    </tr>\n",
       "    <tr>\n",
       "      <th>997</th>\n",
       "      <td>12-10-2018 13:45</td>\n",
       "      <td>18.0</td>\n",
       "      <td>Call</td>\n",
       "      <td>974XXXXXXX</td>\n",
       "      <td>sXXXXXXXahoo.co.in</td>\n",
       "      <td>Sales-Agent-3</td>\n",
       "      <td>Chennai</td>\n",
       "      <td>Mode-1</td>\n",
       "      <td>Potential</td>\n",
       "    </tr>\n",
       "    <tr>\n",
       "      <th>998</th>\n",
       "      <td>12-10-2018 13:43</td>\n",
       "      <td>19.0</td>\n",
       "      <td>Call</td>\n",
       "      <td>740XXXXXXX</td>\n",
       "      <td>sXXXXXXX@gmail.com</td>\n",
       "      <td>Sales-Agent-11</td>\n",
       "      <td>Bangalore</td>\n",
       "      <td>Mode-5</td>\n",
       "      <td>CONVERTED</td>\n",
       "    </tr>\n",
       "    <tr>\n",
       "      <th>999</th>\n",
       "      <td>12-10-2018 13:37</td>\n",
       "      <td>9.0</td>\n",
       "      <td>Call</td>\n",
       "      <td>955XXXXXXX</td>\n",
       "      <td>rXXXXXXX@gmail.com</td>\n",
       "      <td>Sales-Agent-3</td>\n",
       "      <td>Delhi</td>\n",
       "      <td>Mode-3</td>\n",
       "      <td>Potential</td>\n",
       "    </tr>\n",
       "  </tbody>\n",
       "</table>\n",
       "<p>1000 rows × 9 columns</p>\n",
       "</div>"
      ],
      "text/plain": [
       "              Created  Product_ID   Source      Mobile               EMAIL  \\\n",
       "0    14-11-2018 10:05         NaN  Website  984XXXXXXX  aXXXXXXX@gmail.com   \n",
       "1    14-11-2018 09:22         NaN  Website     XXXXXXX             #VALUE!   \n",
       "2    14-11-2018 09:21         NaN  Website     XXXXXXX  dXXXXXXX@yahoo.com   \n",
       "3    14-11-2018 08:46         NaN  Website     XXXXXXX  wXXXXXXX@gmail.com   \n",
       "4    14-11-2018 07:34         NaN  Website     XXXXXXX  cXXXXXXX@gmail.com   \n",
       "..                ...         ...      ...         ...                 ...   \n",
       "995  12-10-2018 14:54         9.0     Call  916XXXXXXX             #VALUE!   \n",
       "996  12-10-2018 14:44        19.0  Website  982XXXXXXX  kXXXXXXX@gmail.com   \n",
       "997  12-10-2018 13:45        18.0     Call  974XXXXXXX  sXXXXXXXahoo.co.in   \n",
       "998  12-10-2018 13:43        19.0     Call  740XXXXXXX  sXXXXXXX@gmail.com   \n",
       "999  12-10-2018 13:37         9.0     Call  955XXXXXXX  rXXXXXXX@gmail.com   \n",
       "\n",
       "        Sales_Agent   Location Delivery_Mode        Status  \n",
       "0    Sales-Agent-11        NaN        Mode-5          Open  \n",
       "1    Sales-Agent-10        NaN        Mode-5          Open  \n",
       "2    Sales-Agent-10        NaN        Mode-5          Open  \n",
       "3    Sales-Agent-10        NaN        Mode-5          Open  \n",
       "4    Sales-Agent-10        NaN        Mode-5          Open  \n",
       "..              ...        ...           ...           ...  \n",
       "995   Sales-Agent-9     Mumbai        Mode-1  Just Enquiry  \n",
       "996  Sales-Agent-11     Mumbai        Mode-3     Potential  \n",
       "997   Sales-Agent-3    Chennai        Mode-1     Potential  \n",
       "998  Sales-Agent-11  Bangalore        Mode-5     CONVERTED  \n",
       "999   Sales-Agent-3      Delhi        Mode-3     Potential  \n",
       "\n",
       "[1000 rows x 9 columns]"
      ]
     },
     "execution_count": 2,
     "metadata": {},
     "output_type": "execute_result"
    }
   ],
   "source": [
    "sales =pd.read_csv(r\"C:\\Users\\DELL\\Downloads\\project_sales.csv\")\n",
    "sales"
   ]
  },
  {
   "cell_type": "markdown",
   "id": "caf2a59d",
   "metadata": {
    "id": "caf2a59d"
   },
   "source": [
    "### The analysis of how different columns relate to the target variable 'Status' has been conducted. Here's a brief summary for each column:\n",
    "\n",
    "#### Created:\n",
    "The 'Created' column, which likely represents the timestamp of when the sales lead was created, shows varying       counts across different 'Status' categories. This suggests that the time of lead creation might influence the eventual status of the lead.\n",
    "\n",
    "#### Product_ID:\n",
    "The relationship between 'Product_ID' and 'Status' would show if certain products are more likely to result in a sale or a lost lead. However, this is a numeric column with a small number of unique values, so a more detailed analysis would be needed to draw conclusions.\n",
    "\n",
    "#### Source:\n",
    "This column indicates the source of the lead. The relationship between 'Source' and 'Status' can reveal which sources are more effective in generating successful leads.\n",
    "\n",
    "#### Mobile:\n",
    " Although this column has a significant number of missing values, the relationship between the provided mobile numbers and 'Status' could indicate if the presence of a mobile number affects the lead's outcome.\n",
    "\n",
    "#### EMAIL:\n",
    "The 'EMAIL' column has no missing values, and its relationship with 'Status' could show if certain email domains or patterns correlate with lead outcomes.\n",
    "\n",
    "#### Sales_Agent:\n",
    "Different sales agents may have varying success rates, and the relationship between 'Sales_Agent' and 'Status' can highlight agent performance.\n",
    "\n",
    "#### Location:\n",
    "The 'Location' column's relationship with 'Status' could indicate if geographical factors play a role in the success of sales leads.\n",
    "\n",
    "#### Delivery_Mode:\n",
    "This column's relationship with 'Status' might reveal if the mode of delivery influences the lead's outcome."
   ]
  },
  {
   "cell_type": "markdown",
   "id": "c607cc67",
   "metadata": {
    "id": "c607cc67"
   },
   "source": [
    "# Basic checks"
   ]
  },
  {
   "cell_type": "code",
   "execution_count": 3,
   "id": "a50771fd",
   "metadata": {
    "id": "a50771fd",
    "outputId": "5c2f1f62-72aa-4070-8749-c30069f05622"
   },
   "outputs": [
    {
     "data": {
      "text/html": [
       "<div>\n",
       "<style scoped>\n",
       "    .dataframe tbody tr th:only-of-type {\n",
       "        vertical-align: middle;\n",
       "    }\n",
       "\n",
       "    .dataframe tbody tr th {\n",
       "        vertical-align: top;\n",
       "    }\n",
       "\n",
       "    .dataframe thead th {\n",
       "        text-align: right;\n",
       "    }\n",
       "</style>\n",
       "<table border=\"1\" class=\"dataframe\">\n",
       "  <thead>\n",
       "    <tr style=\"text-align: right;\">\n",
       "      <th></th>\n",
       "      <th>Created</th>\n",
       "      <th>Product_ID</th>\n",
       "      <th>Source</th>\n",
       "      <th>Mobile</th>\n",
       "      <th>EMAIL</th>\n",
       "      <th>Sales_Agent</th>\n",
       "      <th>Location</th>\n",
       "      <th>Delivery_Mode</th>\n",
       "      <th>Status</th>\n",
       "    </tr>\n",
       "  </thead>\n",
       "  <tbody>\n",
       "    <tr>\n",
       "      <th>0</th>\n",
       "      <td>14-11-2018 10:05</td>\n",
       "      <td>NaN</td>\n",
       "      <td>Website</td>\n",
       "      <td>984XXXXXXX</td>\n",
       "      <td>aXXXXXXX@gmail.com</td>\n",
       "      <td>Sales-Agent-11</td>\n",
       "      <td>NaN</td>\n",
       "      <td>Mode-5</td>\n",
       "      <td>Open</td>\n",
       "    </tr>\n",
       "    <tr>\n",
       "      <th>1</th>\n",
       "      <td>14-11-2018 09:22</td>\n",
       "      <td>NaN</td>\n",
       "      <td>Website</td>\n",
       "      <td>XXXXXXX</td>\n",
       "      <td>#VALUE!</td>\n",
       "      <td>Sales-Agent-10</td>\n",
       "      <td>NaN</td>\n",
       "      <td>Mode-5</td>\n",
       "      <td>Open</td>\n",
       "    </tr>\n",
       "    <tr>\n",
       "      <th>2</th>\n",
       "      <td>14-11-2018 09:21</td>\n",
       "      <td>NaN</td>\n",
       "      <td>Website</td>\n",
       "      <td>XXXXXXX</td>\n",
       "      <td>dXXXXXXX@yahoo.com</td>\n",
       "      <td>Sales-Agent-10</td>\n",
       "      <td>NaN</td>\n",
       "      <td>Mode-5</td>\n",
       "      <td>Open</td>\n",
       "    </tr>\n",
       "    <tr>\n",
       "      <th>3</th>\n",
       "      <td>14-11-2018 08:46</td>\n",
       "      <td>NaN</td>\n",
       "      <td>Website</td>\n",
       "      <td>XXXXXXX</td>\n",
       "      <td>wXXXXXXX@gmail.com</td>\n",
       "      <td>Sales-Agent-10</td>\n",
       "      <td>NaN</td>\n",
       "      <td>Mode-5</td>\n",
       "      <td>Open</td>\n",
       "    </tr>\n",
       "    <tr>\n",
       "      <th>4</th>\n",
       "      <td>14-11-2018 07:34</td>\n",
       "      <td>NaN</td>\n",
       "      <td>Website</td>\n",
       "      <td>XXXXXXX</td>\n",
       "      <td>cXXXXXXX@gmail.com</td>\n",
       "      <td>Sales-Agent-10</td>\n",
       "      <td>NaN</td>\n",
       "      <td>Mode-5</td>\n",
       "      <td>Open</td>\n",
       "    </tr>\n",
       "  </tbody>\n",
       "</table>\n",
       "</div>"
      ],
      "text/plain": [
       "            Created  Product_ID   Source      Mobile               EMAIL  \\\n",
       "0  14-11-2018 10:05         NaN  Website  984XXXXXXX  aXXXXXXX@gmail.com   \n",
       "1  14-11-2018 09:22         NaN  Website     XXXXXXX             #VALUE!   \n",
       "2  14-11-2018 09:21         NaN  Website     XXXXXXX  dXXXXXXX@yahoo.com   \n",
       "3  14-11-2018 08:46         NaN  Website     XXXXXXX  wXXXXXXX@gmail.com   \n",
       "4  14-11-2018 07:34         NaN  Website     XXXXXXX  cXXXXXXX@gmail.com   \n",
       "\n",
       "      Sales_Agent Location Delivery_Mode Status  \n",
       "0  Sales-Agent-11      NaN        Mode-5   Open  \n",
       "1  Sales-Agent-10      NaN        Mode-5   Open  \n",
       "2  Sales-Agent-10      NaN        Mode-5   Open  \n",
       "3  Sales-Agent-10      NaN        Mode-5   Open  \n",
       "4  Sales-Agent-10      NaN        Mode-5   Open  "
      ]
     },
     "execution_count": 3,
     "metadata": {},
     "output_type": "execute_result"
    }
   ],
   "source": [
    "#getting the first five rows\n",
    "sales.head()"
   ]
  },
  {
   "cell_type": "code",
   "execution_count": 4,
   "id": "e517e559",
   "metadata": {
    "id": "e517e559",
    "outputId": "b61e8eea-3f84-4fa7-e02a-bfeebeb0aaa0"
   },
   "outputs": [
    {
     "data": {
      "text/html": [
       "<div>\n",
       "<style scoped>\n",
       "    .dataframe tbody tr th:only-of-type {\n",
       "        vertical-align: middle;\n",
       "    }\n",
       "\n",
       "    .dataframe tbody tr th {\n",
       "        vertical-align: top;\n",
       "    }\n",
       "\n",
       "    .dataframe thead th {\n",
       "        text-align: right;\n",
       "    }\n",
       "</style>\n",
       "<table border=\"1\" class=\"dataframe\">\n",
       "  <thead>\n",
       "    <tr style=\"text-align: right;\">\n",
       "      <th></th>\n",
       "      <th>Created</th>\n",
       "      <th>Product_ID</th>\n",
       "      <th>Source</th>\n",
       "      <th>Mobile</th>\n",
       "      <th>EMAIL</th>\n",
       "      <th>Sales_Agent</th>\n",
       "      <th>Location</th>\n",
       "      <th>Delivery_Mode</th>\n",
       "      <th>Status</th>\n",
       "    </tr>\n",
       "  </thead>\n",
       "  <tbody>\n",
       "    <tr>\n",
       "      <th>995</th>\n",
       "      <td>12-10-2018 14:54</td>\n",
       "      <td>9.0</td>\n",
       "      <td>Call</td>\n",
       "      <td>916XXXXXXX</td>\n",
       "      <td>#VALUE!</td>\n",
       "      <td>Sales-Agent-9</td>\n",
       "      <td>Mumbai</td>\n",
       "      <td>Mode-1</td>\n",
       "      <td>Just Enquiry</td>\n",
       "    </tr>\n",
       "    <tr>\n",
       "      <th>996</th>\n",
       "      <td>12-10-2018 14:44</td>\n",
       "      <td>19.0</td>\n",
       "      <td>Website</td>\n",
       "      <td>982XXXXXXX</td>\n",
       "      <td>kXXXXXXX@gmail.com</td>\n",
       "      <td>Sales-Agent-11</td>\n",
       "      <td>Mumbai</td>\n",
       "      <td>Mode-3</td>\n",
       "      <td>Potential</td>\n",
       "    </tr>\n",
       "    <tr>\n",
       "      <th>997</th>\n",
       "      <td>12-10-2018 13:45</td>\n",
       "      <td>18.0</td>\n",
       "      <td>Call</td>\n",
       "      <td>974XXXXXXX</td>\n",
       "      <td>sXXXXXXXahoo.co.in</td>\n",
       "      <td>Sales-Agent-3</td>\n",
       "      <td>Chennai</td>\n",
       "      <td>Mode-1</td>\n",
       "      <td>Potential</td>\n",
       "    </tr>\n",
       "    <tr>\n",
       "      <th>998</th>\n",
       "      <td>12-10-2018 13:43</td>\n",
       "      <td>19.0</td>\n",
       "      <td>Call</td>\n",
       "      <td>740XXXXXXX</td>\n",
       "      <td>sXXXXXXX@gmail.com</td>\n",
       "      <td>Sales-Agent-11</td>\n",
       "      <td>Bangalore</td>\n",
       "      <td>Mode-5</td>\n",
       "      <td>CONVERTED</td>\n",
       "    </tr>\n",
       "    <tr>\n",
       "      <th>999</th>\n",
       "      <td>12-10-2018 13:37</td>\n",
       "      <td>9.0</td>\n",
       "      <td>Call</td>\n",
       "      <td>955XXXXXXX</td>\n",
       "      <td>rXXXXXXX@gmail.com</td>\n",
       "      <td>Sales-Agent-3</td>\n",
       "      <td>Delhi</td>\n",
       "      <td>Mode-3</td>\n",
       "      <td>Potential</td>\n",
       "    </tr>\n",
       "  </tbody>\n",
       "</table>\n",
       "</div>"
      ],
      "text/plain": [
       "              Created  Product_ID   Source      Mobile               EMAIL  \\\n",
       "995  12-10-2018 14:54         9.0     Call  916XXXXXXX             #VALUE!   \n",
       "996  12-10-2018 14:44        19.0  Website  982XXXXXXX  kXXXXXXX@gmail.com   \n",
       "997  12-10-2018 13:45        18.0     Call  974XXXXXXX  sXXXXXXXahoo.co.in   \n",
       "998  12-10-2018 13:43        19.0     Call  740XXXXXXX  sXXXXXXX@gmail.com   \n",
       "999  12-10-2018 13:37         9.0     Call  955XXXXXXX  rXXXXXXX@gmail.com   \n",
       "\n",
       "        Sales_Agent   Location Delivery_Mode        Status  \n",
       "995   Sales-Agent-9     Mumbai        Mode-1  Just Enquiry  \n",
       "996  Sales-Agent-11     Mumbai        Mode-3     Potential  \n",
       "997   Sales-Agent-3    Chennai        Mode-1     Potential  \n",
       "998  Sales-Agent-11  Bangalore        Mode-5     CONVERTED  \n",
       "999   Sales-Agent-3      Delhi        Mode-3     Potential  "
      ]
     },
     "execution_count": 4,
     "metadata": {},
     "output_type": "execute_result"
    }
   ],
   "source": [
    "#getting the last five rows\n",
    "sales.tail()"
   ]
  },
  {
   "cell_type": "code",
   "execution_count": 5,
   "id": "4201882c",
   "metadata": {
    "id": "4201882c",
    "outputId": "109f44ca-f519-41ef-ba1e-a5939a077da0"
   },
   "outputs": [
    {
     "name": "stdout",
     "output_type": "stream",
     "text": [
      "<class 'pandas.core.frame.DataFrame'>\n",
      "RangeIndex: 1000 entries, 0 to 999\n",
      "Data columns (total 9 columns):\n",
      " #   Column         Non-Null Count  Dtype  \n",
      "---  ------         --------------  -----  \n",
      " 0   Created        1000 non-null   object \n",
      " 1   Product_ID     965 non-null    float64\n",
      " 2   Source         995 non-null    object \n",
      " 3   Mobile         1000 non-null   object \n",
      " 4   EMAIL          1000 non-null   object \n",
      " 5   Sales_Agent    992 non-null    object \n",
      " 6   Location       966 non-null    object \n",
      " 7   Delivery_Mode  1000 non-null   object \n",
      " 8   Status         1000 non-null   object \n",
      "dtypes: float64(1), object(8)\n",
      "memory usage: 70.4+ KB\n"
     ]
    }
   ],
   "source": [
    "##To check data type and null values for all columns\n",
    "sales.info()"
   ]
  },
  {
   "cell_type": "code",
   "execution_count": 6,
   "id": "572321c4",
   "metadata": {
    "id": "572321c4",
    "outputId": "3b88b801-251f-416a-a391-a6829e4e462d"
   },
   "outputs": [
    {
     "data": {
      "text/html": [
       "<div>\n",
       "<style scoped>\n",
       "    .dataframe tbody tr th:only-of-type {\n",
       "        vertical-align: middle;\n",
       "    }\n",
       "\n",
       "    .dataframe tbody tr th {\n",
       "        vertical-align: top;\n",
       "    }\n",
       "\n",
       "    .dataframe thead th {\n",
       "        text-align: right;\n",
       "    }\n",
       "</style>\n",
       "<table border=\"1\" class=\"dataframe\">\n",
       "  <thead>\n",
       "    <tr style=\"text-align: right;\">\n",
       "      <th></th>\n",
       "      <th>Product_ID</th>\n",
       "    </tr>\n",
       "  </thead>\n",
       "  <tbody>\n",
       "    <tr>\n",
       "      <th>count</th>\n",
       "      <td>965.000000</td>\n",
       "    </tr>\n",
       "    <tr>\n",
       "      <th>mean</th>\n",
       "      <td>16.337824</td>\n",
       "    </tr>\n",
       "    <tr>\n",
       "      <th>std</th>\n",
       "      <td>5.768518</td>\n",
       "    </tr>\n",
       "    <tr>\n",
       "      <th>min</th>\n",
       "      <td>1.000000</td>\n",
       "    </tr>\n",
       "    <tr>\n",
       "      <th>25%</th>\n",
       "      <td>15.000000</td>\n",
       "    </tr>\n",
       "    <tr>\n",
       "      <th>50%</th>\n",
       "      <td>18.000000</td>\n",
       "    </tr>\n",
       "    <tr>\n",
       "      <th>75%</th>\n",
       "      <td>19.000000</td>\n",
       "    </tr>\n",
       "    <tr>\n",
       "      <th>max</th>\n",
       "      <td>27.000000</td>\n",
       "    </tr>\n",
       "  </tbody>\n",
       "</table>\n",
       "</div>"
      ],
      "text/plain": [
       "       Product_ID\n",
       "count  965.000000\n",
       "mean    16.337824\n",
       "std      5.768518\n",
       "min      1.000000\n",
       "25%     15.000000\n",
       "50%     18.000000\n",
       "75%     19.000000\n",
       "max     27.000000"
      ]
     },
     "execution_count": 6,
     "metadata": {},
     "output_type": "execute_result"
    }
   ],
   "source": [
    "##Used to view some basic statistical details like percentile,mean,std etc.\n",
    "sales.describe()"
   ]
  },
  {
   "cell_type": "code",
   "execution_count": 7,
   "id": "5a17dc08",
   "metadata": {
    "id": "5a17dc08",
    "outputId": "c1019c4d-7e5d-4518-9650-e0f86ddccbbd"
   },
   "outputs": [
    {
     "data": {
      "text/html": [
       "<div>\n",
       "<style scoped>\n",
       "    .dataframe tbody tr th:only-of-type {\n",
       "        vertical-align: middle;\n",
       "    }\n",
       "\n",
       "    .dataframe tbody tr th {\n",
       "        vertical-align: top;\n",
       "    }\n",
       "\n",
       "    .dataframe thead th {\n",
       "        text-align: right;\n",
       "    }\n",
       "</style>\n",
       "<table border=\"1\" class=\"dataframe\">\n",
       "  <thead>\n",
       "    <tr style=\"text-align: right;\">\n",
       "      <th></th>\n",
       "      <th>Created</th>\n",
       "      <th>Source</th>\n",
       "      <th>Mobile</th>\n",
       "      <th>EMAIL</th>\n",
       "      <th>Sales_Agent</th>\n",
       "      <th>Location</th>\n",
       "      <th>Delivery_Mode</th>\n",
       "      <th>Status</th>\n",
       "    </tr>\n",
       "  </thead>\n",
       "  <tbody>\n",
       "    <tr>\n",
       "      <th>count</th>\n",
       "      <td>1000</td>\n",
       "      <td>995</td>\n",
       "      <td>1000</td>\n",
       "      <td>1000</td>\n",
       "      <td>992</td>\n",
       "      <td>966</td>\n",
       "      <td>1000</td>\n",
       "      <td>1000</td>\n",
       "    </tr>\n",
       "    <tr>\n",
       "      <th>unique</th>\n",
       "      <td>921</td>\n",
       "      <td>13</td>\n",
       "      <td>271</td>\n",
       "      <td>170</td>\n",
       "      <td>8</td>\n",
       "      <td>15</td>\n",
       "      <td>5</td>\n",
       "      <td>11</td>\n",
       "    </tr>\n",
       "    <tr>\n",
       "      <th>top</th>\n",
       "      <td>15-10-2018 10:36</td>\n",
       "      <td>Call</td>\n",
       "      <td>XXXXXXX</td>\n",
       "      <td>#VALUE!</td>\n",
       "      <td>Sales-Agent-9</td>\n",
       "      <td>Other Locations</td>\n",
       "      <td>Mode-1</td>\n",
       "      <td>In Progress Positive</td>\n",
       "    </tr>\n",
       "    <tr>\n",
       "      <th>freq</th>\n",
       "      <td>4</td>\n",
       "      <td>374</td>\n",
       "      <td>83</td>\n",
       "      <td>311</td>\n",
       "      <td>216</td>\n",
       "      <td>365</td>\n",
       "      <td>374</td>\n",
       "      <td>203</td>\n",
       "    </tr>\n",
       "  </tbody>\n",
       "</table>\n",
       "</div>"
      ],
      "text/plain": [
       "                 Created Source   Mobile    EMAIL    Sales_Agent  \\\n",
       "count               1000    995     1000     1000            992   \n",
       "unique               921     13      271      170              8   \n",
       "top     15-10-2018 10:36   Call  XXXXXXX  #VALUE!  Sales-Agent-9   \n",
       "freq                   4    374       83      311            216   \n",
       "\n",
       "               Location Delivery_Mode                Status  \n",
       "count               966          1000                  1000  \n",
       "unique               15             5                    11  \n",
       "top     Other Locations        Mode-1  In Progress Positive  \n",
       "freq                365           374                   203  "
      ]
     },
     "execution_count": 7,
     "metadata": {},
     "output_type": "execute_result"
    }
   ],
   "source": [
    "#It will give you info about categorical data/columns\n",
    "sales.describe(include='O')"
   ]
  },
  {
   "cell_type": "code",
   "execution_count": 8,
   "id": "b7d39a63",
   "metadata": {
    "id": "b7d39a63",
    "outputId": "fcd99e55-0349-43f2-83cf-4bee94a57494"
   },
   "outputs": [
    {
     "data": {
      "text/plain": [
       "Created           0\n",
       "Product_ID       35\n",
       "Source            5\n",
       "Mobile            0\n",
       "EMAIL             0\n",
       "Sales_Agent       8\n",
       "Location         34\n",
       "Delivery_Mode     0\n",
       "Status            0\n",
       "dtype: int64"
      ]
     },
     "execution_count": 8,
     "metadata": {},
     "output_type": "execute_result"
    }
   ],
   "source": [
    "#checking how many null values are present in data\n",
    "sales.isnull().sum()"
   ]
  },
  {
   "cell_type": "markdown",
   "id": "76e8d809",
   "metadata": {
    "id": "76e8d809"
   },
   "source": [
    "# Domain Analysis"
   ]
  },
  {
   "cell_type": "code",
   "execution_count": 9,
   "id": "99dd05a7",
   "metadata": {
    "id": "99dd05a7",
    "outputId": "f7cda4ef-c91b-49d0-b08d-1153d0b3fcd1"
   },
   "outputs": [
    {
     "data": {
      "text/html": [
       "<div>\n",
       "<style scoped>\n",
       "    .dataframe tbody tr th:only-of-type {\n",
       "        vertical-align: middle;\n",
       "    }\n",
       "\n",
       "    .dataframe tbody tr th {\n",
       "        vertical-align: top;\n",
       "    }\n",
       "\n",
       "    .dataframe thead th {\n",
       "        text-align: right;\n",
       "    }\n",
       "</style>\n",
       "<table border=\"1\" class=\"dataframe\">\n",
       "  <thead>\n",
       "    <tr style=\"text-align: right;\">\n",
       "      <th></th>\n",
       "      <th>column</th>\n",
       "      <th>Data Type</th>\n",
       "      <th>Unique count</th>\n",
       "      <th>Missing values</th>\n",
       "      <th>% Missing values</th>\n",
       "    </tr>\n",
       "  </thead>\n",
       "  <tbody>\n",
       "    <tr>\n",
       "      <th>0</th>\n",
       "      <td>Created</td>\n",
       "      <td>object</td>\n",
       "      <td>921</td>\n",
       "      <td>0</td>\n",
       "      <td>0.0</td>\n",
       "    </tr>\n",
       "    <tr>\n",
       "      <th>1</th>\n",
       "      <td>Product_ID</td>\n",
       "      <td>float64</td>\n",
       "      <td>19</td>\n",
       "      <td>35</td>\n",
       "      <td>3.5</td>\n",
       "    </tr>\n",
       "    <tr>\n",
       "      <th>2</th>\n",
       "      <td>Source</td>\n",
       "      <td>object</td>\n",
       "      <td>13</td>\n",
       "      <td>5</td>\n",
       "      <td>0.5</td>\n",
       "    </tr>\n",
       "    <tr>\n",
       "      <th>3</th>\n",
       "      <td>Mobile</td>\n",
       "      <td>object</td>\n",
       "      <td>271</td>\n",
       "      <td>0</td>\n",
       "      <td>0.0</td>\n",
       "    </tr>\n",
       "    <tr>\n",
       "      <th>4</th>\n",
       "      <td>EMAIL</td>\n",
       "      <td>object</td>\n",
       "      <td>170</td>\n",
       "      <td>0</td>\n",
       "      <td>0.0</td>\n",
       "    </tr>\n",
       "    <tr>\n",
       "      <th>5</th>\n",
       "      <td>Sales_Agent</td>\n",
       "      <td>object</td>\n",
       "      <td>8</td>\n",
       "      <td>8</td>\n",
       "      <td>0.8</td>\n",
       "    </tr>\n",
       "    <tr>\n",
       "      <th>6</th>\n",
       "      <td>Location</td>\n",
       "      <td>object</td>\n",
       "      <td>15</td>\n",
       "      <td>34</td>\n",
       "      <td>3.4</td>\n",
       "    </tr>\n",
       "    <tr>\n",
       "      <th>7</th>\n",
       "      <td>Delivery_Mode</td>\n",
       "      <td>object</td>\n",
       "      <td>5</td>\n",
       "      <td>0</td>\n",
       "      <td>0.0</td>\n",
       "    </tr>\n",
       "    <tr>\n",
       "      <th>8</th>\n",
       "      <td>Status</td>\n",
       "      <td>object</td>\n",
       "      <td>11</td>\n",
       "      <td>0</td>\n",
       "      <td>0.0</td>\n",
       "    </tr>\n",
       "  </tbody>\n",
       "</table>\n",
       "</div>"
      ],
      "text/plain": [
       "          column Data Type  Unique count  Missing values  % Missing values\n",
       "0        Created    object           921               0               0.0\n",
       "1     Product_ID   float64            19              35               3.5\n",
       "2         Source    object            13               5               0.5\n",
       "3         Mobile    object           271               0               0.0\n",
       "4          EMAIL    object           170               0               0.0\n",
       "5    Sales_Agent    object             8               8               0.8\n",
       "6       Location    object            15              34               3.4\n",
       "7  Delivery_Mode    object             5               0               0.0\n",
       "8         Status    object            11               0               0.0"
      ]
     },
     "execution_count": 9,
     "metadata": {},
     "output_type": "execute_result"
    }
   ],
   "source": [
    "domain_analysis=pd.DataFrame({\n",
    "    'Data Type':sales.dtypes,\n",
    "    'Unique count':sales.nunique(),\n",
    "    'Missing values':sales.isnull().sum(),\n",
    "    '% Missing values':(sales.isnull().sum()/len(sales)*100)\n",
    "}).reset_index()\n",
    "\n",
    "domain_analysis.rename(columns={'index':'column'},inplace=True)\n",
    "\n",
    "domain_analysis"
   ]
  },
  {
   "cell_type": "markdown",
   "id": "8640dc68",
   "metadata": {
    "id": "8640dc68"
   },
   "source": [
    "### The domain analysis of the dataset reveals the following insights:\n",
    "\n",
    "1) The 'Created' column is of object type with no missing values, indicating it likely contains date-time information.\n",
    "2) 'Product_ID' is a numeric column with a small number of unique values and a few missing entries.\n",
    "3) 'Source', 'Mobile', 'EMAIL', 'Sales_Agent', 'Location', 'Delivery_Mode', and 'Status' are all object types, suggesting they contain categorical data.\n",
    "4) The 'Mobile' column has a significant number of missing values, over 24%.\n",
    "5) 'Product_ID' and 'Location' have a small percentage of missing values, less than 1%.\n",
    "6) 'Source' and 'Sales_Agent' have very few missing values.\n",
    "7) 'EMAIL', 'Delivery_Mode', and 'Status' columns have no missing values."
   ]
  },
  {
   "cell_type": "markdown",
   "id": "4d53b130",
   "metadata": {
    "id": "4d53b130"
   },
   "source": [
    "# Data Preprocessing"
   ]
  },
  {
   "cell_type": "code",
   "execution_count": 10,
   "id": "6df43501",
   "metadata": {
    "id": "6df43501",
    "outputId": "3ad456e0-372d-47f1-b1b9-683a34e1db3c"
   },
   "outputs": [
    {
     "data": {
      "text/html": [
       "<div>\n",
       "<style scoped>\n",
       "    .dataframe tbody tr th:only-of-type {\n",
       "        vertical-align: middle;\n",
       "    }\n",
       "\n",
       "    .dataframe tbody tr th {\n",
       "        vertical-align: top;\n",
       "    }\n",
       "\n",
       "    .dataframe thead th {\n",
       "        text-align: right;\n",
       "    }\n",
       "</style>\n",
       "<table border=\"1\" class=\"dataframe\">\n",
       "  <thead>\n",
       "    <tr style=\"text-align: right;\">\n",
       "      <th></th>\n",
       "      <th>Created</th>\n",
       "      <th>Product_ID</th>\n",
       "      <th>Source</th>\n",
       "      <th>Mobile</th>\n",
       "      <th>EMAIL</th>\n",
       "      <th>Sales_Agent</th>\n",
       "      <th>Location</th>\n",
       "      <th>Delivery_Mode</th>\n",
       "      <th>Status</th>\n",
       "    </tr>\n",
       "  </thead>\n",
       "  <tbody>\n",
       "    <tr>\n",
       "      <th>0</th>\n",
       "      <td>14-11-2018 10:05</td>\n",
       "      <td>NaN</td>\n",
       "      <td>Website</td>\n",
       "      <td>984XXXXXXX</td>\n",
       "      <td>aXXXXXXX@gmail.com</td>\n",
       "      <td>Sales-Agent-11</td>\n",
       "      <td>NaN</td>\n",
       "      <td>Mode-5</td>\n",
       "      <td>Open</td>\n",
       "    </tr>\n",
       "    <tr>\n",
       "      <th>1</th>\n",
       "      <td>14-11-2018 09:22</td>\n",
       "      <td>NaN</td>\n",
       "      <td>Website</td>\n",
       "      <td>XXXXXXX</td>\n",
       "      <td>#VALUE!</td>\n",
       "      <td>Sales-Agent-10</td>\n",
       "      <td>NaN</td>\n",
       "      <td>Mode-5</td>\n",
       "      <td>Open</td>\n",
       "    </tr>\n",
       "    <tr>\n",
       "      <th>2</th>\n",
       "      <td>14-11-2018 09:21</td>\n",
       "      <td>NaN</td>\n",
       "      <td>Website</td>\n",
       "      <td>XXXXXXX</td>\n",
       "      <td>dXXXXXXX@yahoo.com</td>\n",
       "      <td>Sales-Agent-10</td>\n",
       "      <td>NaN</td>\n",
       "      <td>Mode-5</td>\n",
       "      <td>Open</td>\n",
       "    </tr>\n",
       "    <tr>\n",
       "      <th>3</th>\n",
       "      <td>14-11-2018 08:46</td>\n",
       "      <td>NaN</td>\n",
       "      <td>Website</td>\n",
       "      <td>XXXXXXX</td>\n",
       "      <td>wXXXXXXX@gmail.com</td>\n",
       "      <td>Sales-Agent-10</td>\n",
       "      <td>NaN</td>\n",
       "      <td>Mode-5</td>\n",
       "      <td>Open</td>\n",
       "    </tr>\n",
       "    <tr>\n",
       "      <th>4</th>\n",
       "      <td>14-11-2018 07:34</td>\n",
       "      <td>NaN</td>\n",
       "      <td>Website</td>\n",
       "      <td>XXXXXXX</td>\n",
       "      <td>cXXXXXXX@gmail.com</td>\n",
       "      <td>Sales-Agent-10</td>\n",
       "      <td>NaN</td>\n",
       "      <td>Mode-5</td>\n",
       "      <td>Open</td>\n",
       "    </tr>\n",
       "    <tr>\n",
       "      <th>5</th>\n",
       "      <td>14-11-2018 07:33</td>\n",
       "      <td>NaN</td>\n",
       "      <td>Website</td>\n",
       "      <td>XXXXXXX</td>\n",
       "      <td>rXXXXXXX@gmail.com</td>\n",
       "      <td>Sales-Agent-10</td>\n",
       "      <td>NaN</td>\n",
       "      <td>Mode-5</td>\n",
       "      <td>Open</td>\n",
       "    </tr>\n",
       "    <tr>\n",
       "      <th>6</th>\n",
       "      <td>14-11-2018 05:58</td>\n",
       "      <td>NaN</td>\n",
       "      <td>Website</td>\n",
       "      <td>XXXXXXX</td>\n",
       "      <td>aXXXXXXX@gmail.com</td>\n",
       "      <td>Sales-Agent-10</td>\n",
       "      <td>NaN</td>\n",
       "      <td>Mode-5</td>\n",
       "      <td>Open</td>\n",
       "    </tr>\n",
       "    <tr>\n",
       "      <th>7</th>\n",
       "      <td>14-11-2018 05:49</td>\n",
       "      <td>NaN</td>\n",
       "      <td>Website</td>\n",
       "      <td>XXXXXXX</td>\n",
       "      <td>rXXXXXXX@gmail.com</td>\n",
       "      <td>Sales-Agent-10</td>\n",
       "      <td>NaN</td>\n",
       "      <td>Mode-5</td>\n",
       "      <td>Open</td>\n",
       "    </tr>\n",
       "    <tr>\n",
       "      <th>8</th>\n",
       "      <td>14-11-2018 05:40</td>\n",
       "      <td>NaN</td>\n",
       "      <td>Website</td>\n",
       "      <td>078XXXXXXX</td>\n",
       "      <td>DXXXXXXXheblue.com</td>\n",
       "      <td>Sales-Agent-10</td>\n",
       "      <td>NaN</td>\n",
       "      <td>Mode-5</td>\n",
       "      <td>Open</td>\n",
       "    </tr>\n",
       "    <tr>\n",
       "      <th>9</th>\n",
       "      <td>14-11-2018 05:06</td>\n",
       "      <td>NaN</td>\n",
       "      <td>Website</td>\n",
       "      <td>XXXXXXX</td>\n",
       "      <td>jXXXXXXX@gmail.com</td>\n",
       "      <td>Sales-Agent-10</td>\n",
       "      <td>NaN</td>\n",
       "      <td>Mode-5</td>\n",
       "      <td>Open</td>\n",
       "    </tr>\n",
       "  </tbody>\n",
       "</table>\n",
       "</div>"
      ],
      "text/plain": [
       "            Created  Product_ID   Source      Mobile               EMAIL  \\\n",
       "0  14-11-2018 10:05         NaN  Website  984XXXXXXX  aXXXXXXX@gmail.com   \n",
       "1  14-11-2018 09:22         NaN  Website     XXXXXXX             #VALUE!   \n",
       "2  14-11-2018 09:21         NaN  Website     XXXXXXX  dXXXXXXX@yahoo.com   \n",
       "3  14-11-2018 08:46         NaN  Website     XXXXXXX  wXXXXXXX@gmail.com   \n",
       "4  14-11-2018 07:34         NaN  Website     XXXXXXX  cXXXXXXX@gmail.com   \n",
       "5  14-11-2018 07:33         NaN  Website     XXXXXXX  rXXXXXXX@gmail.com   \n",
       "6  14-11-2018 05:58         NaN  Website     XXXXXXX  aXXXXXXX@gmail.com   \n",
       "7  14-11-2018 05:49         NaN  Website     XXXXXXX  rXXXXXXX@gmail.com   \n",
       "8  14-11-2018 05:40         NaN  Website  078XXXXXXX  DXXXXXXXheblue.com   \n",
       "9  14-11-2018 05:06         NaN  Website     XXXXXXX  jXXXXXXX@gmail.com   \n",
       "\n",
       "      Sales_Agent Location Delivery_Mode Status  \n",
       "0  Sales-Agent-11      NaN        Mode-5   Open  \n",
       "1  Sales-Agent-10      NaN        Mode-5   Open  \n",
       "2  Sales-Agent-10      NaN        Mode-5   Open  \n",
       "3  Sales-Agent-10      NaN        Mode-5   Open  \n",
       "4  Sales-Agent-10      NaN        Mode-5   Open  \n",
       "5  Sales-Agent-10      NaN        Mode-5   Open  \n",
       "6  Sales-Agent-10      NaN        Mode-5   Open  \n",
       "7  Sales-Agent-10      NaN        Mode-5   Open  \n",
       "8  Sales-Agent-10      NaN        Mode-5   Open  \n",
       "9  Sales-Agent-10      NaN        Mode-5   Open  "
      ]
     },
     "execution_count": 10,
     "metadata": {},
     "output_type": "execute_result"
    }
   ],
   "source": [
    "sales.head(10)"
   ]
  },
  {
   "cell_type": "code",
   "execution_count": 11,
   "id": "5210bac9",
   "metadata": {
    "id": "5210bac9",
    "outputId": "62561d83-8614-4bfa-996b-a1634a8fe7bc"
   },
   "outputs": [
    {
     "data": {
      "text/plain": [
       "Index(['Created', 'Product_ID', 'Source', 'Mobile', 'EMAIL', 'Sales_Agent',\n",
       "       'Location', 'Delivery_Mode', 'Status'],\n",
       "      dtype='object')"
      ]
     },
     "execution_count": 11,
     "metadata": {},
     "output_type": "execute_result"
    }
   ],
   "source": [
    "sales.columns"
   ]
  },
  {
   "cell_type": "code",
   "execution_count": 12,
   "id": "2ae32ad2",
   "metadata": {
    "id": "2ae32ad2"
   },
   "outputs": [],
   "source": [
    "#dropping the columns which are no use in analysis\n",
    "\n",
    "sales.drop(\"EMAIL\",axis=1,inplace=True)\n",
    "sales.drop(\"Mobile\",axis=1,inplace=True)\n",
    "sales.drop(\"Created\",axis=1,inplace=True)"
   ]
  },
  {
   "cell_type": "code",
   "execution_count": 13,
   "id": "5973a49a",
   "metadata": {
    "id": "5973a49a",
    "outputId": "841ee4e4-fcdd-45d4-dffc-1ef4cf5737ee"
   },
   "outputs": [
    {
     "data": {
      "text/plain": [
       "(1000, 6)"
      ]
     },
     "execution_count": 13,
     "metadata": {},
     "output_type": "execute_result"
    }
   ],
   "source": [
    "sales.shape"
   ]
  },
  {
   "cell_type": "code",
   "execution_count": 14,
   "id": "792dddd1",
   "metadata": {
    "id": "792dddd1",
    "outputId": "d1be3f8b-1b8a-4677-9f97-e5ced085b1ab"
   },
   "outputs": [
    {
     "data": {
      "text/plain": [
       "Product_ID       35\n",
       "Source            5\n",
       "Sales_Agent       8\n",
       "Location         34\n",
       "Delivery_Mode     0\n",
       "Status            0\n",
       "dtype: int64"
      ]
     },
     "execution_count": 14,
     "metadata": {},
     "output_type": "execute_result"
    }
   ],
   "source": [
    "sales.isnull().sum()"
   ]
  },
  {
   "cell_type": "code",
   "execution_count": 15,
   "id": "97be76b4",
   "metadata": {
    "id": "97be76b4",
    "outputId": "ccc690c9-f692-433b-823f-89b6ee6d9cea"
   },
   "outputs": [
    {
     "data": {
      "text/plain": [
       "(957, 6)"
      ]
     },
     "execution_count": 15,
     "metadata": {},
     "output_type": "execute_result"
    }
   ],
   "source": [
    "# Dropping rows with missing data because they are few\n",
    "sales.replace('',np.nan,inplace=True)\n",
    "sales.dropna(inplace=True)\n",
    "sales.reset_index(inplace=True,drop=True)\n",
    "sales.shape"
   ]
  },
  {
   "cell_type": "code",
   "execution_count": 16,
   "id": "cdadb2d9",
   "metadata": {
    "id": "cdadb2d9"
   },
   "outputs": [],
   "source": [
    "# Compressing and Merging the labels in column\n",
    "\n",
    "sales.Source.replace(['Live Chat-Direct','Live Chat-Google Organic','Live Chat -PPC','Live Chat-Blog','Live Chat-Quora',\n",
    "                    'Live Chat-CPC','Live Chat-Google Ads','Live Chat-Adwords Remarketing','Live Chat-Youtube',\n",
    "                    'Live Chat-Justdial'],'Live Chat',inplace=True)\n",
    "sales.Source.replace(['Existing Client','CRM form','Personal Contact'],'Existing Customer',inplace=True)\n",
    "sales.Source.replace('By Recommendation','Customer Referral',inplace=True)\n",
    "sales.Source.replace(['US Website','Just Dial'],'Website',inplace=True)\n",
    "sales.Source.replace(['E-mail Campaign','SMS Campaign','E-Mail Message','Other'],'Campaign',inplace=True)"
   ]
  },
  {
   "cell_type": "code",
   "execution_count": 17,
   "id": "292ef7bb",
   "metadata": {
    "id": "292ef7bb",
    "outputId": "c9253097-b036-4746-8867-e69721d14c9f"
   },
   "outputs": [
    {
     "data": {
      "text/plain": [
       "Call                 370\n",
       "Live Chat            342\n",
       "Website              223\n",
       "Customer Referral     17\n",
       "Existing Customer      4\n",
       "Campaign               1\n",
       "Name: Source, dtype: int64"
      ]
     },
     "execution_count": 17,
     "metadata": {},
     "output_type": "execute_result"
    }
   ],
   "source": [
    "#checked value_counts of source column Afer compressing and merging the label in column\n",
    "sales['Source'].value_counts()"
   ]
  },
  {
   "cell_type": "code",
   "execution_count": 18,
   "id": "cb92f37b",
   "metadata": {
    "id": "cb92f37b",
    "outputId": "c07b1425-3366-4f19-b953-09ce3de84447"
   },
   "outputs": [
    {
     "data": {
      "text/plain": [
       "Other Locations    359\n",
       "Bangalore          250\n",
       "Chennai            115\n",
       "Hyderabad           55\n",
       "Mumbai              54\n",
       "Delhi               46\n",
       "UAE                 14\n",
       "Pune                14\n",
       "Trivandrum          11\n",
       "USA                 10\n",
       "AUSTRALIA            9\n",
       "Kolkata              8\n",
       "UK                   7\n",
       "Singapore            4\n",
       "EUROPE               1\n",
       "Name: Location, dtype: int64"
      ]
     },
     "execution_count": 18,
     "metadata": {},
     "output_type": "execute_result"
    }
   ],
   "source": [
    "#checked value_counts of location column before Compressing and Merging the labels in column\n",
    "sales['Location'].value_counts()"
   ]
  },
  {
   "cell_type": "code",
   "execution_count": 19,
   "id": "262b848f",
   "metadata": {
    "id": "262b848f"
   },
   "outputs": [],
   "source": [
    "## Compressing and Merging the labels in column\n",
    "sales.Location.replace(['UAE','USA','UK','AUSTRALIA','Singapore','Malaysia','EUROPE'],'Foreign',inplace=True)\n",
    "sales.Location.replace(['Howrah','Kolkata','Trivandrum'],'Other Locations',inplace=True)"
   ]
  },
  {
   "cell_type": "code",
   "execution_count": 20,
   "id": "3c0f41cc",
   "metadata": {
    "id": "3c0f41cc",
    "outputId": "86b73a41-7b9b-4711-863e-1bb64f362c4f"
   },
   "outputs": [
    {
     "data": {
      "text/plain": [
       "Other Locations    378\n",
       "Bangalore          250\n",
       "Chennai            115\n",
       "Hyderabad           55\n",
       "Mumbai              54\n",
       "Delhi               46\n",
       "Foreign             45\n",
       "Pune                14\n",
       "Name: Location, dtype: int64"
      ]
     },
     "execution_count": 20,
     "metadata": {},
     "output_type": "execute_result"
    }
   ],
   "source": [
    "#checked value_counts of Location column Afer compressing and merging the label in column\n",
    "sales['Location'].value_counts()"
   ]
  },
  {
   "cell_type": "code",
   "execution_count": 21,
   "id": "38056ea6",
   "metadata": {
    "id": "38056ea6",
    "outputId": "51c2c1ba-50f8-4389-9e4f-92699b736789"
   },
   "outputs": [
    {
     "data": {
      "text/plain": [
       "18.0    254\n",
       "15.0    196\n",
       "19.0    163\n",
       "9.0     117\n",
       "27.0     95\n",
       "5.0      50\n",
       "25.0     17\n",
       "20.0     16\n",
       "10.0     15\n",
       "12.0      9\n",
       "2.0       7\n",
       "1.0       7\n",
       "3.0       3\n",
       "13.0      3\n",
       "11.0      2\n",
       "21.0      1\n",
       "24.0      1\n",
       "26.0      1\n",
       "Name: Product_ID, dtype: int64"
      ]
     },
     "execution_count": 21,
     "metadata": {},
     "output_type": "execute_result"
    }
   ],
   "source": [
    "sales['Product_ID'].value_counts()"
   ]
  },
  {
   "cell_type": "code",
   "execution_count": 22,
   "id": "0092ee70",
   "metadata": {
    "id": "0092ee70"
   },
   "outputs": [],
   "source": [
    "sales.Product_ID.replace(['8','6','3','17','22','11','7','28','0','23','24','16','13','4','14','26','12','2','21','25'],\n",
    "                        'Less Sold Product',inplace=True)"
   ]
  },
  {
   "cell_type": "code",
   "execution_count": 23,
   "id": "3e3e5c50",
   "metadata": {
    "id": "3e3e5c50",
    "outputId": "8541ec31-940d-4f0e-9885-d7f292a9abc8"
   },
   "outputs": [
    {
     "data": {
      "text/plain": [
       "In Progress Positive    202\n",
       "Not Responding          189\n",
       "Potential               172\n",
       "Just Enquiry            158\n",
       "Junk Lead               106\n",
       "CONVERTED                57\n",
       "In Progress Negative     36\n",
       "Long Term                20\n",
       "LOST                     10\n",
       "Open                      6\n",
       "converted                 1\n",
       "Name: Status, dtype: int64"
      ]
     },
     "execution_count": 23,
     "metadata": {},
     "output_type": "execute_result"
    }
   ],
   "source": [
    "#checked value_counts of status column before Compressing and Merging the labels in column\n",
    "sales['Status'].value_counts()"
   ]
  },
  {
   "cell_type": "code",
   "execution_count": 24,
   "id": "c16aa67a",
   "metadata": {
    "id": "c16aa67a"
   },
   "outputs": [],
   "source": [
    "# Defining 'Status' as 'Good' or 'Bad'\n",
    "sales.Status.replace(['CONVERTED','converted','In Progress Positive','Potential','Long Term','Open'],'Good',inplace=True)\n",
    "sales.Status.replace(['LOST','In Progress Negative','Not Responding','Junk Lead','Just Enquiry'],'Bad',inplace=True)"
   ]
  },
  {
   "cell_type": "code",
   "execution_count": 25,
   "id": "7208abcc",
   "metadata": {
    "id": "7208abcc",
    "outputId": "a639f943-9c67-41ff-d691-e7e0cf1a2b96"
   },
   "outputs": [
    {
     "data": {
      "text/plain": [
       "Bad     499\n",
       "Good    458\n",
       "Name: Status, dtype: int64"
      ]
     },
     "execution_count": 25,
     "metadata": {},
     "output_type": "execute_result"
    }
   ],
   "source": [
    "#checked value_counts of status column after Compressing and Merging the labels in column\n",
    "sales['Status'].value_counts()"
   ]
  },
  {
   "cell_type": "code",
   "execution_count": 26,
   "id": "7c81f604",
   "metadata": {
    "id": "7c81f604",
    "outputId": "7b332877-d9af-489c-c7c6-a1ac5967e57a"
   },
   "outputs": [
    {
     "data": {
      "text/html": [
       "<div>\n",
       "<style scoped>\n",
       "    .dataframe tbody tr th:only-of-type {\n",
       "        vertical-align: middle;\n",
       "    }\n",
       "\n",
       "    .dataframe tbody tr th {\n",
       "        vertical-align: top;\n",
       "    }\n",
       "\n",
       "    .dataframe thead th {\n",
       "        text-align: right;\n",
       "    }\n",
       "</style>\n",
       "<table border=\"1\" class=\"dataframe\">\n",
       "  <thead>\n",
       "    <tr style=\"text-align: right;\">\n",
       "      <th></th>\n",
       "      <th>Product_ID</th>\n",
       "      <th>Source</th>\n",
       "      <th>Sales_Agent</th>\n",
       "      <th>Location</th>\n",
       "      <th>Delivery_Mode</th>\n",
       "      <th>Status</th>\n",
       "    </tr>\n",
       "  </thead>\n",
       "  <tbody>\n",
       "    <tr>\n",
       "      <th>0</th>\n",
       "      <td>9.0</td>\n",
       "      <td>Live Chat</td>\n",
       "      <td>Sales-Agent-3</td>\n",
       "      <td>Bangalore</td>\n",
       "      <td>Mode-1</td>\n",
       "      <td>Good</td>\n",
       "    </tr>\n",
       "    <tr>\n",
       "      <th>1</th>\n",
       "      <td>19.0</td>\n",
       "      <td>Call</td>\n",
       "      <td>Sales-Agent-4</td>\n",
       "      <td>Other Locations</td>\n",
       "      <td>Mode-5</td>\n",
       "      <td>Good</td>\n",
       "    </tr>\n",
       "    <tr>\n",
       "      <th>2</th>\n",
       "      <td>18.0</td>\n",
       "      <td>Website</td>\n",
       "      <td>Sales-Agent-11</td>\n",
       "      <td>Other Locations</td>\n",
       "      <td>Mode-1</td>\n",
       "      <td>Good</td>\n",
       "    </tr>\n",
       "    <tr>\n",
       "      <th>3</th>\n",
       "      <td>15.0</td>\n",
       "      <td>Website</td>\n",
       "      <td>Sales-Agent-7</td>\n",
       "      <td>Hyderabad</td>\n",
       "      <td>Mode-1</td>\n",
       "      <td>Bad</td>\n",
       "    </tr>\n",
       "    <tr>\n",
       "      <th>4</th>\n",
       "      <td>18.0</td>\n",
       "      <td>Call</td>\n",
       "      <td>Sales-Agent-7</td>\n",
       "      <td>Bangalore</td>\n",
       "      <td>Mode-1</td>\n",
       "      <td>Good</td>\n",
       "    </tr>\n",
       "    <tr>\n",
       "      <th>5</th>\n",
       "      <td>18.0</td>\n",
       "      <td>Live Chat</td>\n",
       "      <td>Sales-Agent-9</td>\n",
       "      <td>Other Locations</td>\n",
       "      <td>Mode-3</td>\n",
       "      <td>Bad</td>\n",
       "    </tr>\n",
       "    <tr>\n",
       "      <th>6</th>\n",
       "      <td>27.0</td>\n",
       "      <td>Call</td>\n",
       "      <td>Sales-Agent-11</td>\n",
       "      <td>Chennai</td>\n",
       "      <td>Mode-5</td>\n",
       "      <td>Good</td>\n",
       "    </tr>\n",
       "    <tr>\n",
       "      <th>7</th>\n",
       "      <td>19.0</td>\n",
       "      <td>Live Chat</td>\n",
       "      <td>Sales-Agent-4</td>\n",
       "      <td>Foreign</td>\n",
       "      <td>Mode-2</td>\n",
       "      <td>Good</td>\n",
       "    </tr>\n",
       "    <tr>\n",
       "      <th>8</th>\n",
       "      <td>19.0</td>\n",
       "      <td>Live Chat</td>\n",
       "      <td>Sales-Agent-4</td>\n",
       "      <td>Foreign</td>\n",
       "      <td>Mode-4</td>\n",
       "      <td>Bad</td>\n",
       "    </tr>\n",
       "    <tr>\n",
       "      <th>9</th>\n",
       "      <td>18.0</td>\n",
       "      <td>Call</td>\n",
       "      <td>Sales-Agent-7</td>\n",
       "      <td>Bangalore</td>\n",
       "      <td>Mode-1</td>\n",
       "      <td>Bad</td>\n",
       "    </tr>\n",
       "  </tbody>\n",
       "</table>\n",
       "</div>"
      ],
      "text/plain": [
       "   Product_ID     Source     Sales_Agent         Location Delivery_Mode Status\n",
       "0         9.0  Live Chat   Sales-Agent-3        Bangalore        Mode-1   Good\n",
       "1        19.0       Call   Sales-Agent-4  Other Locations        Mode-5   Good\n",
       "2        18.0    Website  Sales-Agent-11  Other Locations        Mode-1   Good\n",
       "3        15.0    Website   Sales-Agent-7        Hyderabad        Mode-1    Bad\n",
       "4        18.0       Call   Sales-Agent-7        Bangalore        Mode-1   Good\n",
       "5        18.0  Live Chat   Sales-Agent-9  Other Locations        Mode-3    Bad\n",
       "6        27.0       Call  Sales-Agent-11          Chennai        Mode-5   Good\n",
       "7        19.0  Live Chat   Sales-Agent-4          Foreign        Mode-2   Good\n",
       "8        19.0  Live Chat   Sales-Agent-4          Foreign        Mode-4    Bad\n",
       "9        18.0       Call   Sales-Agent-7        Bangalore        Mode-1    Bad"
      ]
     },
     "execution_count": 26,
     "metadata": {},
     "output_type": "execute_result"
    }
   ],
   "source": [
    "sales.head(10)"
   ]
  },
  {
   "cell_type": "markdown",
   "id": "6758e33e",
   "metadata": {
    "id": "6758e33e"
   },
   "source": [
    "# Exploratory Data Analysis"
   ]
  },
  {
   "cell_type": "code",
   "execution_count": 27,
   "id": "33d0286d",
   "metadata": {
    "id": "33d0286d"
   },
   "outputs": [],
   "source": [
    "#importing  matplot library for visualization\n",
    "import matplotlib.pyplot as plt"
   ]
  },
  {
   "cell_type": "code",
   "execution_count": 28,
   "id": "f0e20610",
   "metadata": {
    "id": "f0e20610",
    "outputId": "34293bab-d636-4a24-812f-e9930a6e5445"
   },
   "outputs": [
    {
     "data": {
      "image/png": "[encoded data removed]",
      "text/plain": [
       "<Figure size 1500x1000 with 6 Axes>"
      ]
     },
     "metadata": {},
     "output_type": "display_data"
    }
   ],
   "source": [
    "# Plotting the labels in each column\n",
    "plt.figure(figsize=(15,10))\n",
    "\n",
    "# Product_ID value counts\n",
    "plt.subplot(2,3,1)\n",
    "sales['Product_ID'].value_counts().plot(kind='bar')\n",
    "plt.title('Product_ID Value Counts')\n",
    "\n",
    "# Source value counts\n",
    "plt.subplot(2,3,2)\n",
    "sales['Source'].value_counts().plot(kind='bar')\n",
    "plt.title('Source Value Counts')\n",
    "\n",
    "# Sales_Agent value counts\n",
    "plt.subplot(2,3,3)\n",
    "sales['Sales_Agent'].value_counts().plot(kind='bar')\n",
    "plt.title('Sales_Agent Value Counts')\n",
    "\n",
    "# Location value counts\n",
    "plt.subplot(2,3,4)\n",
    "sales['Location'].value_counts().plot(kind='bar')\n",
    "plt.title('Location Value Counts')\n",
    "\n",
    "# Delivery_Mode value counts\n",
    "plt.subplot(2,3,5)\n",
    "sales['Delivery_Mode'].value_counts().plot(kind='bar')\n",
    "plt.title('Delivery_Mode Value Counts')\n",
    "\n",
    "# Status value counts\n",
    "plt.subplot(2,3,6)\n",
    "sales['Status'].value_counts().plot(kind='bar')\n",
    "plt.title('Status Value Counts')\n",
    "\n",
    "plt.tight_layout()\n",
    "plt.show()"
   ]
  },
  {
   "cell_type": "markdown",
   "id": "0dbf8232",
   "metadata": {
    "id": "0dbf8232"
   },
   "source": [
    "### Here are the insights from the bar charts visualizing the value counts for various columns\n",
    "#### Product_ID:\n",
    "The chart for Product_ID shows the frequency of each product in the dataset. Some products appear more frequently, which could indicate higher sales volume or popularity.\n",
    "\n",
    "#### Source:\n",
    "The Source chart would highlight which lead sources are most commonly used. A high frequency for a particular source could suggest it is a major channel for lead generation.\n",
    "\n",
    "#### Sales_Agent:\n",
    "The Sales_Agent chart would reveal which agents are handling more leads. Agents with higher counts could be more active or have a larger customer base.\n",
    "\n",
    "#### Location:\n",
    "The Location chart would show the distribution of leads across different locations. This could indicate the market reach and where the business efforts are concentrated.\n",
    "\n",
    "#### Delivery_Mode:\n",
    "The Delivery_Mode chart would indicate the preferred methods of delivery for products or services. A dominant mode could suggest customer preference or operational efficiency.\n",
    "\n",
    "#### Status:\n",
    "The Status chart provides an overview of the outcome of leads.bad leads are more as compared to good leads  "
   ]
  },
  {
   "cell_type": "code",
   "execution_count": 29,
   "id": "6afc92cd",
   "metadata": {
    "id": "6afc92cd",
    "outputId": "3b818d4c-129e-4d55-f581-26ed473143fd"
   },
   "outputs": [
    {
     "data": {
      "text/plain": [
       "Product_ID       float64\n",
       "Source            object\n",
       "Sales_Agent       object\n",
       "Location          object\n",
       "Delivery_Mode     object\n",
       "Status            object\n",
       "dtype: object"
      ]
     },
     "execution_count": 29,
     "metadata": {},
     "output_type": "execute_result"
    }
   ],
   "source": [
    "sales.dtypes"
   ]
  },
  {
   "cell_type": "markdown",
   "id": "1ba98cbe",
   "metadata": {
    "id": "1ba98cbe"
   },
   "source": [
    "# Encoding Categorical Variables"
   ]
  },
  {
   "cell_type": "code",
   "execution_count": 30,
   "id": "79b5e44c",
   "metadata": {
    "id": "79b5e44c"
   },
   "outputs": [],
   "source": [
    "from sklearn.preprocessing import LabelEncoder"
   ]
  },
  {
   "cell_type": "code",
   "execution_count": 31,
   "id": "ebb4e78b",
   "metadata": {
    "id": "ebb4e78b",
    "outputId": "3946c733-ece0-40cb-cd1c-7d7da85f3a22"
   },
   "outputs": [
    {
     "name": "stderr",
     "output_type": "stream",
     "text": [
      "C:\\Users\\DELL\\AppData\\Local\\Temp\\ipykernel_12680\\1734400553.py:3: DeprecationWarning: In a future version, `df.iloc[:, i] = newvals` will attempt to set the values inplace instead of always setting a new array. To retain the old behavior, use either `df[df.columns[i]] = newvals` or, if columns are non-unique, `df.isetitem(i, newvals)`\n",
      "  sales.iloc[:,i] = enc.fit_transform(sales.iloc[:,i])\n",
      "C:\\Users\\DELL\\AppData\\Local\\Temp\\ipykernel_12680\\1734400553.py:3: DeprecationWarning: In a future version, `df.iloc[:, i] = newvals` will attempt to set the values inplace instead of always setting a new array. To retain the old behavior, use either `df[df.columns[i]] = newvals` or, if columns are non-unique, `df.isetitem(i, newvals)`\n",
      "  sales.iloc[:,i] = enc.fit_transform(sales.iloc[:,i])\n",
      "C:\\Users\\DELL\\AppData\\Local\\Temp\\ipykernel_12680\\1734400553.py:3: DeprecationWarning: In a future version, `df.iloc[:, i] = newvals` will attempt to set the values inplace instead of always setting a new array. To retain the old behavior, use either `df[df.columns[i]] = newvals` or, if columns are non-unique, `df.isetitem(i, newvals)`\n",
      "  sales.iloc[:,i] = enc.fit_transform(sales.iloc[:,i])\n",
      "C:\\Users\\DELL\\AppData\\Local\\Temp\\ipykernel_12680\\1734400553.py:3: DeprecationWarning: In a future version, `df.iloc[:, i] = newvals` will attempt to set the values inplace instead of always setting a new array. To retain the old behavior, use either `df[df.columns[i]] = newvals` or, if columns are non-unique, `df.isetitem(i, newvals)`\n",
      "  sales.iloc[:,i] = enc.fit_transform(sales.iloc[:,i])\n",
      "C:\\Users\\DELL\\AppData\\Local\\Temp\\ipykernel_12680\\1734400553.py:3: DeprecationWarning: In a future version, `df.iloc[:, i] = newvals` will attempt to set the values inplace instead of always setting a new array. To retain the old behavior, use either `df[df.columns[i]] = newvals` or, if columns are non-unique, `df.isetitem(i, newvals)`\n",
      "  sales.iloc[:,i] = enc.fit_transform(sales.iloc[:,i])\n",
      "C:\\Users\\DELL\\AppData\\Local\\Temp\\ipykernel_12680\\1734400553.py:3: DeprecationWarning: In a future version, `df.iloc[:, i] = newvals` will attempt to set the values inplace instead of always setting a new array. To retain the old behavior, use either `df[df.columns[i]] = newvals` or, if columns are non-unique, `df.isetitem(i, newvals)`\n",
      "  sales.iloc[:,i] = enc.fit_transform(sales.iloc[:,i])\n"
     ]
    },
    {
     "data": {
      "text/html": [
       "<div>\n",
       "<style scoped>\n",
       "    .dataframe tbody tr th:only-of-type {\n",
       "        vertical-align: middle;\n",
       "    }\n",
       "\n",
       "    .dataframe tbody tr th {\n",
       "        vertical-align: top;\n",
       "    }\n",
       "\n",
       "    .dataframe thead th {\n",
       "        text-align: right;\n",
       "    }\n",
       "</style>\n",
       "<table border=\"1\" class=\"dataframe\">\n",
       "  <thead>\n",
       "    <tr style=\"text-align: right;\">\n",
       "      <th></th>\n",
       "      <th>Product_ID</th>\n",
       "      <th>Source</th>\n",
       "      <th>Sales_Agent</th>\n",
       "      <th>Location</th>\n",
       "      <th>Delivery_Mode</th>\n",
       "      <th>Status</th>\n",
       "    </tr>\n",
       "  </thead>\n",
       "  <tbody>\n",
       "    <tr>\n",
       "      <th>0</th>\n",
       "      <td>4</td>\n",
       "      <td>4</td>\n",
       "      <td>1</td>\n",
       "      <td>0</td>\n",
       "      <td>0</td>\n",
       "      <td>1</td>\n",
       "    </tr>\n",
       "    <tr>\n",
       "      <th>1</th>\n",
       "      <td>11</td>\n",
       "      <td>0</td>\n",
       "      <td>2</td>\n",
       "      <td>6</td>\n",
       "      <td>4</td>\n",
       "      <td>1</td>\n",
       "    </tr>\n",
       "    <tr>\n",
       "      <th>2</th>\n",
       "      <td>10</td>\n",
       "      <td>5</td>\n",
       "      <td>0</td>\n",
       "      <td>6</td>\n",
       "      <td>0</td>\n",
       "      <td>1</td>\n",
       "    </tr>\n",
       "    <tr>\n",
       "      <th>3</th>\n",
       "      <td>9</td>\n",
       "      <td>5</td>\n",
       "      <td>4</td>\n",
       "      <td>4</td>\n",
       "      <td>0</td>\n",
       "      <td>0</td>\n",
       "    </tr>\n",
       "    <tr>\n",
       "      <th>4</th>\n",
       "      <td>10</td>\n",
       "      <td>0</td>\n",
       "      <td>4</td>\n",
       "      <td>0</td>\n",
       "      <td>0</td>\n",
       "      <td>1</td>\n",
       "    </tr>\n",
       "  </tbody>\n",
       "</table>\n",
       "</div>"
      ],
      "text/plain": [
       "   Product_ID  Source  Sales_Agent  Location  Delivery_Mode  Status\n",
       "0           4       4            1         0              0       1\n",
       "1          11       0            2         6              4       1\n",
       "2          10       5            0         6              0       1\n",
       "3           9       5            4         4              0       0\n",
       "4          10       0            4         0              0       1"
      ]
     },
     "execution_count": 31,
     "metadata": {},
     "output_type": "execute_result"
    }
   ],
   "source": [
    "enc = LabelEncoder()\n",
    "for i in (0,1,2,3,4,5):\n",
    "    sales.iloc[:,i] = enc.fit_transform(sales.iloc[:,i])\n",
    "sales.head()"
   ]
  },
  {
   "cell_type": "code",
   "execution_count": 32,
   "id": "273ece4a",
   "metadata": {
    "id": "273ece4a",
    "outputId": "09832358-b5a2-4829-9d15-caff3464201f"
   },
   "outputs": [
    {
     "name": "stdout",
     "output_type": "stream",
     "text": [
      "<class 'pandas.core.frame.DataFrame'>\n",
      "RangeIndex: 957 entries, 0 to 956\n",
      "Data columns (total 6 columns):\n",
      " #   Column         Non-Null Count  Dtype\n",
      "---  ------         --------------  -----\n",
      " 0   Product_ID     957 non-null    int64\n",
      " 1   Source         957 non-null    int32\n",
      " 2   Sales_Agent    957 non-null    int32\n",
      " 3   Location       957 non-null    int32\n",
      " 4   Delivery_Mode  957 non-null    int32\n",
      " 5   Status         957 non-null    int32\n",
      "dtypes: int32(5), int64(1)\n",
      "memory usage: 26.3 KB\n"
     ]
    }
   ],
   "source": [
    "sales.info()"
   ]
  },
  {
   "cell_type": "markdown",
   "id": "49171d43",
   "metadata": {
    "id": "49171d43"
   },
   "source": [
    "# Feature Engineering"
   ]
  },
  {
   "cell_type": "code",
   "execution_count": 33,
   "id": "0919085e",
   "metadata": {
    "id": "0919085e",
    "outputId": "0a0a5779-a0dc-435f-846d-597ea9f03c19"
   },
   "outputs": [
    {
     "data": {
      "text/html": [
       "<div>\n",
       "<style scoped>\n",
       "    .dataframe tbody tr th:only-of-type {\n",
       "        vertical-align: middle;\n",
       "    }\n",
       "\n",
       "    .dataframe tbody tr th {\n",
       "        vertical-align: top;\n",
       "    }\n",
       "\n",
       "    .dataframe thead th {\n",
       "        text-align: right;\n",
       "    }\n",
       "</style>\n",
       "<table border=\"1\" class=\"dataframe\">\n",
       "  <thead>\n",
       "    <tr style=\"text-align: right;\">\n",
       "      <th></th>\n",
       "      <th>Product_ID</th>\n",
       "      <th>Source</th>\n",
       "      <th>Sales_Agent</th>\n",
       "      <th>Location</th>\n",
       "      <th>Delivery_Mode</th>\n",
       "      <th>Status</th>\n",
       "    </tr>\n",
       "  </thead>\n",
       "  <tbody>\n",
       "    <tr>\n",
       "      <th>Product_ID</th>\n",
       "      <td>1.000000</td>\n",
       "      <td>0.093264</td>\n",
       "      <td>-0.020970</td>\n",
       "      <td>-0.035047</td>\n",
       "      <td>-0.064711</td>\n",
       "      <td>0.022233</td>\n",
       "    </tr>\n",
       "    <tr>\n",
       "      <th>Source</th>\n",
       "      <td>0.093264</td>\n",
       "      <td>1.000000</td>\n",
       "      <td>0.007360</td>\n",
       "      <td>-0.036363</td>\n",
       "      <td>-0.327901</td>\n",
       "      <td>0.031184</td>\n",
       "    </tr>\n",
       "    <tr>\n",
       "      <th>Sales_Agent</th>\n",
       "      <td>-0.020970</td>\n",
       "      <td>0.007360</td>\n",
       "      <td>1.000000</td>\n",
       "      <td>-0.085395</td>\n",
       "      <td>-0.154209</td>\n",
       "      <td>0.166519</td>\n",
       "    </tr>\n",
       "    <tr>\n",
       "      <th>Location</th>\n",
       "      <td>-0.035047</td>\n",
       "      <td>-0.036363</td>\n",
       "      <td>-0.085395</td>\n",
       "      <td>1.000000</td>\n",
       "      <td>0.505351</td>\n",
       "      <td>-0.462852</td>\n",
       "    </tr>\n",
       "    <tr>\n",
       "      <th>Delivery_Mode</th>\n",
       "      <td>-0.064711</td>\n",
       "      <td>-0.327901</td>\n",
       "      <td>-0.154209</td>\n",
       "      <td>0.505351</td>\n",
       "      <td>1.000000</td>\n",
       "      <td>-0.296263</td>\n",
       "    </tr>\n",
       "    <tr>\n",
       "      <th>Status</th>\n",
       "      <td>0.022233</td>\n",
       "      <td>0.031184</td>\n",
       "      <td>0.166519</td>\n",
       "      <td>-0.462852</td>\n",
       "      <td>-0.296263</td>\n",
       "      <td>1.000000</td>\n",
       "    </tr>\n",
       "  </tbody>\n",
       "</table>\n",
       "</div>"
      ],
      "text/plain": [
       "               Product_ID    Source  Sales_Agent  Location  Delivery_Mode  \\\n",
       "Product_ID       1.000000  0.093264    -0.020970 -0.035047      -0.064711   \n",
       "Source           0.093264  1.000000     0.007360 -0.036363      -0.327901   \n",
       "Sales_Agent     -0.020970  0.007360     1.000000 -0.085395      -0.154209   \n",
       "Location        -0.035047 -0.036363    -0.085395  1.000000       0.505351   \n",
       "Delivery_Mode   -0.064711 -0.327901    -0.154209  0.505351       1.000000   \n",
       "Status           0.022233  0.031184     0.166519 -0.462852      -0.296263   \n",
       "\n",
       "                 Status  \n",
       "Product_ID     0.022233  \n",
       "Source         0.031184  \n",
       "Sales_Agent    0.166519  \n",
       "Location      -0.462852  \n",
       "Delivery_Mode -0.296263  \n",
       "Status         1.000000  "
      ]
     },
     "execution_count": 33,
     "metadata": {},
     "output_type": "execute_result"
    }
   ],
   "source": [
    "# Checking the correlation coeffecient\n",
    "sales.corr()"
   ]
  },
  {
   "cell_type": "code",
   "execution_count": 34,
   "id": "54726981",
   "metadata": {
    "id": "54726981",
    "outputId": "4cd105bf-a1cc-45d1-9687-c7e3eff1f083"
   },
   "outputs": [
    {
     "data": {
      "text/plain": [
       "<Axes: >"
      ]
     },
     "execution_count": 34,
     "metadata": {},
     "output_type": "execute_result"
    },
    {
     "data": {
      "image/png": "[encoded data removed]",
      "text/plain": [
       "<Figure size 640x480 with 2 Axes>"
      ]
     },
     "metadata": {},
     "output_type": "display_data"
    }
   ],
   "source": [
    "sns.heatmap(sales.corr(),annot=True)"
   ]
  },
  {
   "cell_type": "code",
   "execution_count": 35,
   "id": "60243e75",
   "metadata": {
    "id": "60243e75"
   },
   "outputs": [],
   "source": [
    "#splitting dataset into x and y\n",
    "\n",
    "x=sales.iloc[:,:-1]\n",
    "y=sales.Status"
   ]
  },
  {
   "cell_type": "code",
   "execution_count": 36,
   "id": "2e902eb8",
   "metadata": {
    "id": "2e902eb8",
    "outputId": "3c63d8c2-260f-4bac-d3ca-b5f50d796e30"
   },
   "outputs": [
    {
     "data": {
      "text/html": [
       "<div>\n",
       "<style scoped>\n",
       "    .dataframe tbody tr th:only-of-type {\n",
       "        vertical-align: middle;\n",
       "    }\n",
       "\n",
       "    .dataframe tbody tr th {\n",
       "        vertical-align: top;\n",
       "    }\n",
       "\n",
       "    .dataframe thead th {\n",
       "        text-align: right;\n",
       "    }\n",
       "</style>\n",
       "<table border=\"1\" class=\"dataframe\">\n",
       "  <thead>\n",
       "    <tr style=\"text-align: right;\">\n",
       "      <th></th>\n",
       "      <th>Product_ID</th>\n",
       "      <th>Source</th>\n",
       "      <th>Sales_Agent</th>\n",
       "      <th>Location</th>\n",
       "      <th>Delivery_Mode</th>\n",
       "    </tr>\n",
       "  </thead>\n",
       "  <tbody>\n",
       "    <tr>\n",
       "      <th>0</th>\n",
       "      <td>4</td>\n",
       "      <td>4</td>\n",
       "      <td>1</td>\n",
       "      <td>0</td>\n",
       "      <td>0</td>\n",
       "    </tr>\n",
       "    <tr>\n",
       "      <th>1</th>\n",
       "      <td>11</td>\n",
       "      <td>0</td>\n",
       "      <td>2</td>\n",
       "      <td>6</td>\n",
       "      <td>4</td>\n",
       "    </tr>\n",
       "    <tr>\n",
       "      <th>2</th>\n",
       "      <td>10</td>\n",
       "      <td>5</td>\n",
       "      <td>0</td>\n",
       "      <td>6</td>\n",
       "      <td>0</td>\n",
       "    </tr>\n",
       "    <tr>\n",
       "      <th>3</th>\n",
       "      <td>9</td>\n",
       "      <td>5</td>\n",
       "      <td>4</td>\n",
       "      <td>4</td>\n",
       "      <td>0</td>\n",
       "    </tr>\n",
       "    <tr>\n",
       "      <th>4</th>\n",
       "      <td>10</td>\n",
       "      <td>0</td>\n",
       "      <td>4</td>\n",
       "      <td>0</td>\n",
       "      <td>0</td>\n",
       "    </tr>\n",
       "    <tr>\n",
       "      <th>...</th>\n",
       "      <td>...</td>\n",
       "      <td>...</td>\n",
       "      <td>...</td>\n",
       "      <td>...</td>\n",
       "      <td>...</td>\n",
       "    </tr>\n",
       "    <tr>\n",
       "      <th>952</th>\n",
       "      <td>4</td>\n",
       "      <td>0</td>\n",
       "      <td>6</td>\n",
       "      <td>5</td>\n",
       "      <td>0</td>\n",
       "    </tr>\n",
       "    <tr>\n",
       "      <th>953</th>\n",
       "      <td>11</td>\n",
       "      <td>5</td>\n",
       "      <td>0</td>\n",
       "      <td>5</td>\n",
       "      <td>2</td>\n",
       "    </tr>\n",
       "    <tr>\n",
       "      <th>954</th>\n",
       "      <td>10</td>\n",
       "      <td>0</td>\n",
       "      <td>1</td>\n",
       "      <td>1</td>\n",
       "      <td>0</td>\n",
       "    </tr>\n",
       "    <tr>\n",
       "      <th>955</th>\n",
       "      <td>11</td>\n",
       "      <td>0</td>\n",
       "      <td>0</td>\n",
       "      <td>0</td>\n",
       "      <td>4</td>\n",
       "    </tr>\n",
       "    <tr>\n",
       "      <th>956</th>\n",
       "      <td>4</td>\n",
       "      <td>0</td>\n",
       "      <td>1</td>\n",
       "      <td>2</td>\n",
       "      <td>2</td>\n",
       "    </tr>\n",
       "  </tbody>\n",
       "</table>\n",
       "<p>957 rows × 5 columns</p>\n",
       "</div>"
      ],
      "text/plain": [
       "     Product_ID  Source  Sales_Agent  Location  Delivery_Mode\n",
       "0             4       4            1         0              0\n",
       "1            11       0            2         6              4\n",
       "2            10       5            0         6              0\n",
       "3             9       5            4         4              0\n",
       "4            10       0            4         0              0\n",
       "..          ...     ...          ...       ...            ...\n",
       "952           4       0            6         5              0\n",
       "953          11       5            0         5              2\n",
       "954          10       0            1         1              0\n",
       "955          11       0            0         0              4\n",
       "956           4       0            1         2              2\n",
       "\n",
       "[957 rows x 5 columns]"
      ]
     },
     "execution_count": 36,
     "metadata": {},
     "output_type": "execute_result"
    }
   ],
   "source": [
    "x"
   ]
  },
  {
   "cell_type": "code",
   "execution_count": 37,
   "id": "a79fb6c6",
   "metadata": {
    "id": "a79fb6c6",
    "outputId": "e3abc42e-fc63-4825-cf2c-ba19a39d3e0a"
   },
   "outputs": [
    {
     "data": {
      "text/plain": [
       "0      1\n",
       "1      1\n",
       "2      1\n",
       "3      0\n",
       "4      1\n",
       "      ..\n",
       "952    0\n",
       "953    1\n",
       "954    1\n",
       "955    1\n",
       "956    1\n",
       "Name: Status, Length: 957, dtype: int32"
      ]
     },
     "execution_count": 37,
     "metadata": {},
     "output_type": "execute_result"
    }
   ],
   "source": [
    "y"
   ]
  },
  {
   "cell_type": "code",
   "execution_count": 38,
   "id": "88241435",
   "metadata": {
    "id": "88241435"
   },
   "outputs": [],
   "source": [
    "# Splitting into training and testing data for accuracy\n",
    "x_train,x_test,y_train,y_test=train_test_split(x,y,test_size=0.2,random_state=0)"
   ]
  },
  {
   "cell_type": "code",
   "execution_count": 39,
   "id": "8a33fa28",
   "metadata": {
    "id": "8a33fa28",
    "outputId": "efdfd4b8-e547-4dfb-b2bf-039ed0539fc6"
   },
   "outputs": [
    {
     "data": {
      "text/plain": [
       "(765, 5)"
      ]
     },
     "execution_count": 39,
     "metadata": {},
     "output_type": "execute_result"
    }
   ],
   "source": [
    "x_train.shape"
   ]
  },
  {
   "cell_type": "code",
   "execution_count": 40,
   "id": "e917ace8",
   "metadata": {
    "id": "e917ace8",
    "outputId": "0527982e-7074-46e8-aaa1-447535900039"
   },
   "outputs": [
    {
     "data": {
      "text/plain": [
       "(192, 5)"
      ]
     },
     "execution_count": 40,
     "metadata": {},
     "output_type": "execute_result"
    }
   ],
   "source": [
    "x_test.shape"
   ]
  },
  {
   "cell_type": "code",
   "execution_count": 41,
   "id": "90c3782a",
   "metadata": {
    "id": "90c3782a"
   },
   "outputs": [],
   "source": [
    "#training the model\n",
    "\n",
    "from sklearn.tree import DecisionTreeClassifier\n",
    "classifier_tree=DecisionTreeClassifier()\n",
    "params=[{'min_samples_split':[2,3,4,5],'criterion':['gini']},{'min_samples_split':[2,3,4,5],'criterion':['entropy']}]\n",
    "\n",
    "model_gridtree=GridSearchCV(classifier_tree,params,)"
   ]
  },
  {
   "cell_type": "markdown",
   "id": "e31475cb",
   "metadata": {
    "id": "e31475cb"
   },
   "source": [
    "# Models"
   ]
  },
  {
   "cell_type": "markdown",
   "id": "b2e2812c",
   "metadata": {
    "id": "b2e2812c"
   },
   "source": [
    "## 1) Logistic Regression"
   ]
  },
  {
   "cell_type": "code",
   "execution_count": 42,
   "id": "6a05ac51",
   "metadata": {
    "id": "6a05ac51",
    "outputId": "8fc21e66-a6b7-4f81-8294-58e0eea0e118"
   },
   "outputs": [
    {
     "data": {
      "text/html": [
       "<style>#sk-container-id-1 {color: black;background-color: white;}#sk-container-id-1 pre{padding: 0;}#sk-container-id-1 div.sk-toggleable {background-color: white;}#sk-container-id-1 label.sk-toggleable__label {cursor: pointer;display: block;width: 100%;margin-bottom: 0;padding: 0.3em;box-sizing: border-box;text-align: center;}#sk-container-id-1 label.sk-toggleable__label-arrow:before {content: \"▸\";float: left;margin-right: 0.25em;color: #696969;}#sk-container-id-1 label.sk-toggleable__label-arrow:hover:before {color: black;}#sk-container-id-1 div.sk-estimator:hover label.sk-toggleable__label-arrow:before {color: black;}#sk-container-id-1 div.sk-toggleable__content {max-height: 0;max-width: 0;overflow: hidden;text-align: left;background-color: #f0f8ff;}#sk-container-id-1 div.sk-toggleable__content pre {margin: 0.2em;color: black;border-radius: 0.25em;background-color: #f0f8ff;}#sk-container-id-1 input.sk-toggleable__control:checked~div.sk-toggleable__content {max-height: 200px;max-width: 100%;overflow: auto;}#sk-container-id-1 input.sk-toggleable__control:checked~label.sk-toggleable__label-arrow:before {content: \"▾\";}#sk-container-id-1 div.sk-estimator input.sk-toggleable__control:checked~label.sk-toggleable__label {background-color: #d4ebff;}#sk-container-id-1 div.sk-label input.sk-toggleable__control:checked~label.sk-toggleable__label {background-color: #d4ebff;}#sk-container-id-1 input.sk-hidden--visually {border: 0;clip: rect(1px 1px 1px 1px);clip: rect(1px, 1px, 1px, 1px);height: 1px;margin: -1px;overflow: hidden;padding: 0;position: absolute;width: 1px;}#sk-container-id-1 div.sk-estimator {font-family: monospace;background-color: #f0f8ff;border: 1px dotted black;border-radius: 0.25em;box-sizing: border-box;margin-bottom: 0.5em;}#sk-container-id-1 div.sk-estimator:hover {background-color: #d4ebff;}#sk-container-id-1 div.sk-parallel-item::after {content: \"\";width: 100%;border-bottom: 1px solid gray;flex-grow: 1;}#sk-container-id-1 div.sk-label:hover label.sk-toggleable__label {background-color: #d4ebff;}#sk-container-id-1 div.sk-serial::before {content: \"\";position: absolute;border-left: 1px solid gray;box-sizing: border-box;top: 0;bottom: 0;left: 50%;z-index: 0;}#sk-container-id-1 div.sk-serial {display: flex;flex-direction: column;align-items: center;background-color: white;padding-right: 0.2em;padding-left: 0.2em;position: relative;}#sk-container-id-1 div.sk-item {position: relative;z-index: 1;}#sk-container-id-1 div.sk-parallel {display: flex;align-items: stretch;justify-content: center;background-color: white;position: relative;}#sk-container-id-1 div.sk-item::before, #sk-container-id-1 div.sk-parallel-item::before {content: \"\";position: absolute;border-left: 1px solid gray;box-sizing: border-box;top: 0;bottom: 0;left: 50%;z-index: -1;}#sk-container-id-1 div.sk-parallel-item {display: flex;flex-direction: column;z-index: 1;position: relative;background-color: white;}#sk-container-id-1 div.sk-parallel-item:first-child::after {align-self: flex-end;width: 50%;}#sk-container-id-1 div.sk-parallel-item:last-child::after {align-self: flex-start;width: 50%;}#sk-container-id-1 div.sk-parallel-item:only-child::after {width: 0;}#sk-container-id-1 div.sk-dashed-wrapped {border: 1px dashed gray;margin: 0 0.4em 0.5em 0.4em;box-sizing: border-box;padding-bottom: 0.4em;background-color: white;}#sk-container-id-1 div.sk-label label {font-family: monospace;font-weight: bold;display: inline-block;line-height: 1.2em;}#sk-container-id-1 div.sk-label-container {text-align: center;}#sk-container-id-1 div.sk-container {/* jupyter's `normalize.less` sets `[hidden] { display: none; }` but bootstrap.min.css set `[hidden] { display: none !important; }` so we also need the `!important` here to be able to override the default hidden behavior on the sphinx rendered scikit-learn.org. See: https://github.com/scikit-learn/scikit-learn/issues/21755 */display: inline-block !important;position: relative;}#sk-container-id-1 div.sk-text-repr-fallback {display: none;}</style><div id=\"sk-container-id-1\" class=\"sk-top-container\"><div class=\"sk-text-repr-fallback\"><pre>LogisticRegression()</pre><b>In a Jupyter environment, please rerun this cell to show the HTML representation or trust the notebook. <br />On GitHub, the HTML representation is unable to render, please try loading this page with nbviewer.org.</b></div><div class=\"sk-container\" hidden><div class=\"sk-item\"><div class=\"sk-estimator sk-toggleable\"><input class=\"sk-toggleable__control sk-hidden--visually\" id=\"sk-estimator-id-1\" type=\"checkbox\" checked><label for=\"sk-estimator-id-1\" class=\"sk-toggleable__label sk-toggleable__label-arrow\">LogisticRegression</label><div class=\"sk-toggleable__content\"><pre>LogisticRegression()</pre></div></div></div></div></div>"
      ],
      "text/plain": [
       "LogisticRegression()"
      ]
     },
     "execution_count": 42,
     "metadata": {},
     "output_type": "execute_result"
    }
   ],
   "source": [
    "from sklearn.linear_model import LogisticRegression\n",
    "\n",
    "#training the model\n",
    "\n",
    "log_regressor=LogisticRegression()\n",
    "log_regressor.fit(x_train,y_train)"
   ]
  },
  {
   "cell_type": "code",
   "execution_count": 43,
   "id": "4f97838a",
   "metadata": {
    "id": "4f97838a",
    "outputId": "210dad59-e32d-4f93-9094-716f39150897"
   },
   "outputs": [
    {
     "data": {
      "text/plain": [
       "array([1, 0, 0, 0, 0, 0, 1, 0, 0, 0, 0, 0, 1, 1, 0, 1, 1, 1, 0, 0, 1, 0,\n",
       "       1, 1, 1, 0, 1, 1, 0, 1, 1, 1, 1, 0, 0, 1, 1, 0, 0, 0, 0, 0, 0, 1,\n",
       "       0, 0, 1, 0, 1, 1, 1, 0, 0, 0, 0, 0, 1, 0, 1, 1, 0, 0, 0, 0, 0, 0,\n",
       "       0, 0, 1, 0, 0, 1, 1, 1, 1, 0, 0, 0, 1, 0, 1, 0, 0, 1, 1, 0, 0, 0,\n",
       "       0, 0, 0, 1, 0, 1, 0, 0, 0, 0, 1, 0, 1, 1, 1, 1, 1, 0, 1, 1, 0, 0,\n",
       "       1, 1, 1, 0, 1, 0, 1, 0, 1, 0, 0, 0, 0, 1, 0, 1, 1, 1, 1, 0, 0, 1,\n",
       "       1, 0, 0, 1, 0, 0, 0, 1, 1, 0, 0, 1, 0, 1, 1, 0, 1, 0, 0, 1, 1, 1,\n",
       "       0, 0, 0, 0, 1, 1, 1, 0, 0, 1, 1, 0, 1, 0, 1, 1, 1, 0, 1, 0, 0, 1,\n",
       "       1, 1, 0, 0, 0, 0, 1, 1, 0, 1, 0, 1, 1, 1, 0, 1])"
      ]
     },
     "execution_count": 43,
     "metadata": {},
     "output_type": "execute_result"
    }
   ],
   "source": [
    "#predicting the model\n",
    "\n",
    "y_pred_log_regressor=log_regressor.predict(x_test)\n",
    "y_pred_log_regressor"
   ]
  },
  {
   "cell_type": "code",
   "execution_count": 44,
   "id": "fd2a5a22",
   "metadata": {
    "id": "fd2a5a22",
    "outputId": "8c461214-7f69-41a7-8dd5-b3c287aceb23"
   },
   "outputs": [
    {
     "name": "stdout",
     "output_type": "stream",
     "text": [
      "0.75\n",
      "              precision    recall  f1-score   support\n",
      "\n",
      "           0       0.77      0.77      0.77       103\n",
      "           1       0.73      0.73      0.73        89\n",
      "\n",
      "    accuracy                           0.75       192\n",
      "   macro avg       0.75      0.75      0.75       192\n",
      "weighted avg       0.75      0.75      0.75       192\n",
      "\n"
     ]
    }
   ],
   "source": [
    "#finding accuracy,clasification report\n",
    "\n",
    "print(accuracy_score(y_test,y_pred_log_regressor))\n",
    "print(classification_report(y_test,y_pred_log_regressor))"
   ]
  },
  {
   "cell_type": "code",
   "execution_count": 45,
   "id": "cbb3cc87",
   "metadata": {
    "id": "cbb3cc87",
    "outputId": "7b7a56c1-f79a-444a-8afb-49dd500d927d"
   },
   "outputs": [
    {
     "name": "stdout",
     "output_type": "stream",
     "text": [
      "[[79 24]\n",
      " [24 65]]\n"
     ]
    }
   ],
   "source": [
    "#finding confusion matrix\n",
    "\n",
    "print(confusion_matrix(y_test,y_pred_log_regressor))"
   ]
  },
  {
   "cell_type": "markdown",
   "id": "d9826037",
   "metadata": {
    "id": "d9826037"
   },
   "source": [
    "## 2) Support Vector Machine"
   ]
  },
  {
   "cell_type": "code",
   "execution_count": 46,
   "id": "ebfa7612",
   "metadata": {
    "id": "ebfa7612",
    "outputId": "b138685a-7a7b-46f4-bb70-6826b1faab15"
   },
   "outputs": [
    {
     "data": {
      "text/html": [
       "<style>#sk-container-id-2 {color: black;background-color: white;}#sk-container-id-2 pre{padding: 0;}#sk-container-id-2 div.sk-toggleable {background-color: white;}#sk-container-id-2 label.sk-toggleable__label {cursor: pointer;display: block;width: 100%;margin-bottom: 0;padding: 0.3em;box-sizing: border-box;text-align: center;}#sk-container-id-2 label.sk-toggleable__label-arrow:before {content: \"▸\";float: left;margin-right: 0.25em;color: #696969;}#sk-container-id-2 label.sk-toggleable__label-arrow:hover:before {color: black;}#sk-container-id-2 div.sk-estimator:hover label.sk-toggleable__label-arrow:before {color: black;}#sk-container-id-2 div.sk-toggleable__content {max-height: 0;max-width: 0;overflow: hidden;text-align: left;background-color: #f0f8ff;}#sk-container-id-2 div.sk-toggleable__content pre {margin: 0.2em;color: black;border-radius: 0.25em;background-color: #f0f8ff;}#sk-container-id-2 input.sk-toggleable__control:checked~div.sk-toggleable__content {max-height: 200px;max-width: 100%;overflow: auto;}#sk-container-id-2 input.sk-toggleable__control:checked~label.sk-toggleable__label-arrow:before {content: \"▾\";}#sk-container-id-2 div.sk-estimator input.sk-toggleable__control:checked~label.sk-toggleable__label {background-color: #d4ebff;}#sk-container-id-2 div.sk-label input.sk-toggleable__control:checked~label.sk-toggleable__label {background-color: #d4ebff;}#sk-container-id-2 input.sk-hidden--visually {border: 0;clip: rect(1px 1px 1px 1px);clip: rect(1px, 1px, 1px, 1px);height: 1px;margin: -1px;overflow: hidden;padding: 0;position: absolute;width: 1px;}#sk-container-id-2 div.sk-estimator {font-family: monospace;background-color: #f0f8ff;border: 1px dotted black;border-radius: 0.25em;box-sizing: border-box;margin-bottom: 0.5em;}#sk-container-id-2 div.sk-estimator:hover {background-color: #d4ebff;}#sk-container-id-2 div.sk-parallel-item::after {content: \"\";width: 100%;border-bottom: 1px solid gray;flex-grow: 1;}#sk-container-id-2 div.sk-label:hover label.sk-toggleable__label {background-color: #d4ebff;}#sk-container-id-2 div.sk-serial::before {content: \"\";position: absolute;border-left: 1px solid gray;box-sizing: border-box;top: 0;bottom: 0;left: 50%;z-index: 0;}#sk-container-id-2 div.sk-serial {display: flex;flex-direction: column;align-items: center;background-color: white;padding-right: 0.2em;padding-left: 0.2em;position: relative;}#sk-container-id-2 div.sk-item {position: relative;z-index: 1;}#sk-container-id-2 div.sk-parallel {display: flex;align-items: stretch;justify-content: center;background-color: white;position: relative;}#sk-container-id-2 div.sk-item::before, #sk-container-id-2 div.sk-parallel-item::before {content: \"\";position: absolute;border-left: 1px solid gray;box-sizing: border-box;top: 0;bottom: 0;left: 50%;z-index: -1;}#sk-container-id-2 div.sk-parallel-item {display: flex;flex-direction: column;z-index: 1;position: relative;background-color: white;}#sk-container-id-2 div.sk-parallel-item:first-child::after {align-self: flex-end;width: 50%;}#sk-container-id-2 div.sk-parallel-item:last-child::after {align-self: flex-start;width: 50%;}#sk-container-id-2 div.sk-parallel-item:only-child::after {width: 0;}#sk-container-id-2 div.sk-dashed-wrapped {border: 1px dashed gray;margin: 0 0.4em 0.5em 0.4em;box-sizing: border-box;padding-bottom: 0.4em;background-color: white;}#sk-container-id-2 div.sk-label label {font-family: monospace;font-weight: bold;display: inline-block;line-height: 1.2em;}#sk-container-id-2 div.sk-label-container {text-align: center;}#sk-container-id-2 div.sk-container {/* jupyter's `normalize.less` sets `[hidden] { display: none; }` but bootstrap.min.css set `[hidden] { display: none !important; }` so we also need the `!important` here to be able to override the default hidden behavior on the sphinx rendered scikit-learn.org. See: https://github.com/scikit-learn/scikit-learn/issues/21755 */display: inline-block !important;position: relative;}#sk-container-id-2 div.sk-text-repr-fallback {display: none;}</style><div id=\"sk-container-id-2\" class=\"sk-top-container\"><div class=\"sk-text-repr-fallback\"><pre>GridSearchCV(cv=5, estimator=SVC(),\n",
       "             param_grid={&#x27;C&#x27;: [0.001, 0.01, 0.1, 1, 10],\n",
       "                         &#x27;gamma&#x27;: [0.0001, 0.001, 0.01, 0.1, 1, 10],\n",
       "                         &#x27;kernel&#x27;: [&#x27;rbf&#x27;]})</pre><b>In a Jupyter environment, please rerun this cell to show the HTML representation or trust the notebook. <br />On GitHub, the HTML representation is unable to render, please try loading this page with nbviewer.org.</b></div><div class=\"sk-container\" hidden><div class=\"sk-item sk-dashed-wrapped\"><div class=\"sk-label-container\"><div class=\"sk-label sk-toggleable\"><input class=\"sk-toggleable__control sk-hidden--visually\" id=\"sk-estimator-id-2\" type=\"checkbox\" ><label for=\"sk-estimator-id-2\" class=\"sk-toggleable__label sk-toggleable__label-arrow\">GridSearchCV</label><div class=\"sk-toggleable__content\"><pre>GridSearchCV(cv=5, estimator=SVC(),\n",
       "             param_grid={&#x27;C&#x27;: [0.001, 0.01, 0.1, 1, 10],\n",
       "                         &#x27;gamma&#x27;: [0.0001, 0.001, 0.01, 0.1, 1, 10],\n",
       "                         &#x27;kernel&#x27;: [&#x27;rbf&#x27;]})</pre></div></div></div><div class=\"sk-parallel\"><div class=\"sk-parallel-item\"><div class=\"sk-item\"><div class=\"sk-label-container\"><div class=\"sk-label sk-toggleable\"><input class=\"sk-toggleable__control sk-hidden--visually\" id=\"sk-estimator-id-3\" type=\"checkbox\" ><label for=\"sk-estimator-id-3\" class=\"sk-toggleable__label sk-toggleable__label-arrow\">estimator: SVC</label><div class=\"sk-toggleable__content\"><pre>SVC()</pre></div></div></div><div class=\"sk-serial\"><div class=\"sk-item\"><div class=\"sk-estimator sk-toggleable\"><input class=\"sk-toggleable__control sk-hidden--visually\" id=\"sk-estimator-id-4\" type=\"checkbox\" ><label for=\"sk-estimator-id-4\" class=\"sk-toggleable__label sk-toggleable__label-arrow\">SVC</label><div class=\"sk-toggleable__content\"><pre>SVC()</pre></div></div></div></div></div></div></div></div></div></div>"
      ],
      "text/plain": [
       "GridSearchCV(cv=5, estimator=SVC(),\n",
       "             param_grid={'C': [0.001, 0.01, 0.1, 1, 10],\n",
       "                         'gamma': [0.0001, 0.001, 0.01, 0.1, 1, 10],\n",
       "                         'kernel': ['rbf']})"
      ]
     },
     "execution_count": 46,
     "metadata": {},
     "output_type": "execute_result"
    }
   ],
   "source": [
    "#training the model\n",
    "\n",
    "from sklearn.svm import SVC\n",
    "\n",
    "params={'kernel':['rbf'],'gamma':[0.0001, 0.001, 0.01, 0.1, 1, 10],'C':[0.001, 0.01, 0.1, 1, 10]}\n",
    "rbf_svc=GridSearchCV(SVC(),params,cv=5)\n",
    "rbf_svc.fit(x_train,y_train)"
   ]
  },
  {
   "cell_type": "code",
   "execution_count": 47,
   "id": "ef3157fb",
   "metadata": {
    "id": "ef3157fb",
    "outputId": "b295e164-4845-4954-f4f1-19f87c1ad226"
   },
   "outputs": [
    {
     "data": {
      "text/plain": [
       "{'C': 1, 'gamma': 0.1, 'kernel': 'rbf'}"
      ]
     },
     "execution_count": 47,
     "metadata": {},
     "output_type": "execute_result"
    }
   ],
   "source": [
    "#checking the best parameters\n",
    "rbf_svc.best_params_"
   ]
  },
  {
   "cell_type": "code",
   "execution_count": 48,
   "id": "80b3dd76",
   "metadata": {
    "id": "80b3dd76",
    "outputId": "e415626b-bcc1-44f5-85d5-7e15d8bb1999"
   },
   "outputs": [
    {
     "data": {
      "text/plain": [
       "array([1, 0, 0, 0, 0, 1, 1, 0, 1, 0, 0, 0, 1, 1, 0, 1, 1, 1, 0, 0, 0, 0,\n",
       "       1, 0, 1, 0, 1, 1, 0, 1, 1, 1, 1, 0, 0, 1, 1, 0, 0, 0, 0, 0, 0, 0,\n",
       "       0, 0, 1, 0, 1, 1, 1, 1, 1, 1, 0, 0, 1, 0, 1, 1, 0, 0, 0, 0, 0, 0,\n",
       "       0, 0, 1, 1, 1, 1, 1, 0, 1, 0, 0, 0, 0, 0, 1, 1, 0, 1, 1, 0, 0, 0,\n",
       "       0, 1, 0, 1, 0, 0, 0, 0, 0, 0, 1, 0, 1, 1, 1, 0, 1, 0, 0, 1, 0, 0,\n",
       "       1, 1, 1, 0, 1, 0, 1, 0, 1, 0, 1, 1, 0, 0, 1, 1, 0, 1, 1, 0, 0, 1,\n",
       "       1, 0, 0, 1, 0, 0, 0, 1, 1, 0, 0, 1, 0, 1, 1, 0, 1, 0, 0, 1, 1, 1,\n",
       "       0, 1, 0, 0, 1, 1, 1, 0, 0, 1, 1, 0, 1, 0, 1, 1, 0, 0, 1, 0, 0, 1,\n",
       "       1, 1, 0, 0, 0, 0, 1, 1, 0, 1, 0, 1, 1, 1, 0, 1])"
      ]
     },
     "execution_count": 48,
     "metadata": {},
     "output_type": "execute_result"
    }
   ],
   "source": [
    "#predicting the model\n",
    "y_pred_svc=rbf_svc.predict(x_test)\n",
    "y_pred_svc"
   ]
  },
  {
   "cell_type": "code",
   "execution_count": 49,
   "id": "74d37c73",
   "metadata": {
    "id": "74d37c73",
    "outputId": "0d68ee5d-c805-44f4-ac3d-82629dc76e9e",
    "scrolled": true
   },
   "outputs": [
    {
     "name": "stdout",
     "output_type": "stream",
     "text": [
      "0.75\n",
      "              precision    recall  f1-score   support\n",
      "\n",
      "           0       0.77      0.76      0.76       103\n",
      "           1       0.73      0.74      0.73        89\n",
      "\n",
      "    accuracy                           0.75       192\n",
      "   macro avg       0.75      0.75      0.75       192\n",
      "weighted avg       0.75      0.75      0.75       192\n",
      "\n"
     ]
    }
   ],
   "source": [
    "#finding accuracy,clasification report\n",
    "\n",
    "print(accuracy_score(y_test,y_pred_svc))\n",
    "print(classification_report(y_test,y_pred_svc))"
   ]
  },
  {
   "cell_type": "code",
   "execution_count": 50,
   "id": "ff749285",
   "metadata": {
    "id": "ff749285",
    "outputId": "ac0fde7f-7fbf-4b41-8182-961a2f8584e7"
   },
   "outputs": [
    {
     "name": "stdout",
     "output_type": "stream",
     "text": [
      "[[78 25]\n",
      " [23 66]]\n"
     ]
    }
   ],
   "source": [
    "#finding confusion matrix\n",
    "\n",
    "print(confusion_matrix(y_test,y_pred_svc))"
   ]
  },
  {
   "cell_type": "markdown",
   "id": "c46ca37e",
   "metadata": {
    "id": "c46ca37e"
   },
   "source": [
    "## 3) Decision Tree with GridsearchCV"
   ]
  },
  {
   "cell_type": "code",
   "execution_count": 51,
   "id": "532cfe88",
   "metadata": {
    "id": "532cfe88",
    "outputId": "c5044de2-e64d-4a2a-ca49-ec47f4aa9235"
   },
   "outputs": [
    {
     "data": {
      "text/html": [
       "<style>#sk-container-id-3 {color: black;background-color: white;}#sk-container-id-3 pre{padding: 0;}#sk-container-id-3 div.sk-toggleable {background-color: white;}#sk-container-id-3 label.sk-toggleable__label {cursor: pointer;display: block;width: 100%;margin-bottom: 0;padding: 0.3em;box-sizing: border-box;text-align: center;}#sk-container-id-3 label.sk-toggleable__label-arrow:before {content: \"▸\";float: left;margin-right: 0.25em;color: #696969;}#sk-container-id-3 label.sk-toggleable__label-arrow:hover:before {color: black;}#sk-container-id-3 div.sk-estimator:hover label.sk-toggleable__label-arrow:before {color: black;}#sk-container-id-3 div.sk-toggleable__content {max-height: 0;max-width: 0;overflow: hidden;text-align: left;background-color: #f0f8ff;}#sk-container-id-3 div.sk-toggleable__content pre {margin: 0.2em;color: black;border-radius: 0.25em;background-color: #f0f8ff;}#sk-container-id-3 input.sk-toggleable__control:checked~div.sk-toggleable__content {max-height: 200px;max-width: 100%;overflow: auto;}#sk-container-id-3 input.sk-toggleable__control:checked~label.sk-toggleable__label-arrow:before {content: \"▾\";}#sk-container-id-3 div.sk-estimator input.sk-toggleable__control:checked~label.sk-toggleable__label {background-color: #d4ebff;}#sk-container-id-3 div.sk-label input.sk-toggleable__control:checked~label.sk-toggleable__label {background-color: #d4ebff;}#sk-container-id-3 input.sk-hidden--visually {border: 0;clip: rect(1px 1px 1px 1px);clip: rect(1px, 1px, 1px, 1px);height: 1px;margin: -1px;overflow: hidden;padding: 0;position: absolute;width: 1px;}#sk-container-id-3 div.sk-estimator {font-family: monospace;background-color: #f0f8ff;border: 1px dotted black;border-radius: 0.25em;box-sizing: border-box;margin-bottom: 0.5em;}#sk-container-id-3 div.sk-estimator:hover {background-color: #d4ebff;}#sk-container-id-3 div.sk-parallel-item::after {content: \"\";width: 100%;border-bottom: 1px solid gray;flex-grow: 1;}#sk-container-id-3 div.sk-label:hover label.sk-toggleable__label {background-color: #d4ebff;}#sk-container-id-3 div.sk-serial::before {content: \"\";position: absolute;border-left: 1px solid gray;box-sizing: border-box;top: 0;bottom: 0;left: 50%;z-index: 0;}#sk-container-id-3 div.sk-serial {display: flex;flex-direction: column;align-items: center;background-color: white;padding-right: 0.2em;padding-left: 0.2em;position: relative;}#sk-container-id-3 div.sk-item {position: relative;z-index: 1;}#sk-container-id-3 div.sk-parallel {display: flex;align-items: stretch;justify-content: center;background-color: white;position: relative;}#sk-container-id-3 div.sk-item::before, #sk-container-id-3 div.sk-parallel-item::before {content: \"\";position: absolute;border-left: 1px solid gray;box-sizing: border-box;top: 0;bottom: 0;left: 50%;z-index: -1;}#sk-container-id-3 div.sk-parallel-item {display: flex;flex-direction: column;z-index: 1;position: relative;background-color: white;}#sk-container-id-3 div.sk-parallel-item:first-child::after {align-self: flex-end;width: 50%;}#sk-container-id-3 div.sk-parallel-item:last-child::after {align-self: flex-start;width: 50%;}#sk-container-id-3 div.sk-parallel-item:only-child::after {width: 0;}#sk-container-id-3 div.sk-dashed-wrapped {border: 1px dashed gray;margin: 0 0.4em 0.5em 0.4em;box-sizing: border-box;padding-bottom: 0.4em;background-color: white;}#sk-container-id-3 div.sk-label label {font-family: monospace;font-weight: bold;display: inline-block;line-height: 1.2em;}#sk-container-id-3 div.sk-label-container {text-align: center;}#sk-container-id-3 div.sk-container {/* jupyter's `normalize.less` sets `[hidden] { display: none; }` but bootstrap.min.css set `[hidden] { display: none !important; }` so we also need the `!important` here to be able to override the default hidden behavior on the sphinx rendered scikit-learn.org. See: https://github.com/scikit-learn/scikit-learn/issues/21755 */display: inline-block !important;position: relative;}#sk-container-id-3 div.sk-text-repr-fallback {display: none;}</style><div id=\"sk-container-id-3\" class=\"sk-top-container\"><div class=\"sk-text-repr-fallback\"><pre>GridSearchCV(cv=10, estimator=DecisionTreeClassifier(random_state=42),\n",
       "             param_grid=[{&#x27;criterion&#x27;: [&#x27;gini&#x27;],\n",
       "                          &#x27;min_samples_split&#x27;: [2, 3, 4, 5]},\n",
       "                         {&#x27;criterion&#x27;: [&#x27;entropy&#x27;],\n",
       "                          &#x27;min_samples_split&#x27;: [2, 3, 4, 5]}],\n",
       "             scoring=&#x27;accuracy&#x27;)</pre><b>In a Jupyter environment, please rerun this cell to show the HTML representation or trust the notebook. <br />On GitHub, the HTML representation is unable to render, please try loading this page with nbviewer.org.</b></div><div class=\"sk-container\" hidden><div class=\"sk-item sk-dashed-wrapped\"><div class=\"sk-label-container\"><div class=\"sk-label sk-toggleable\"><input class=\"sk-toggleable__control sk-hidden--visually\" id=\"sk-estimator-id-5\" type=\"checkbox\" ><label for=\"sk-estimator-id-5\" class=\"sk-toggleable__label sk-toggleable__label-arrow\">GridSearchCV</label><div class=\"sk-toggleable__content\"><pre>GridSearchCV(cv=10, estimator=DecisionTreeClassifier(random_state=42),\n",
       "             param_grid=[{&#x27;criterion&#x27;: [&#x27;gini&#x27;],\n",
       "                          &#x27;min_samples_split&#x27;: [2, 3, 4, 5]},\n",
       "                         {&#x27;criterion&#x27;: [&#x27;entropy&#x27;],\n",
       "                          &#x27;min_samples_split&#x27;: [2, 3, 4, 5]}],\n",
       "             scoring=&#x27;accuracy&#x27;)</pre></div></div></div><div class=\"sk-parallel\"><div class=\"sk-parallel-item\"><div class=\"sk-item\"><div class=\"sk-label-container\"><div class=\"sk-label sk-toggleable\"><input class=\"sk-toggleable__control sk-hidden--visually\" id=\"sk-estimator-id-6\" type=\"checkbox\" ><label for=\"sk-estimator-id-6\" class=\"sk-toggleable__label sk-toggleable__label-arrow\">estimator: DecisionTreeClassifier</label><div class=\"sk-toggleable__content\"><pre>DecisionTreeClassifier(random_state=42)</pre></div></div></div><div class=\"sk-serial\"><div class=\"sk-item\"><div class=\"sk-estimator sk-toggleable\"><input class=\"sk-toggleable__control sk-hidden--visually\" id=\"sk-estimator-id-7\" type=\"checkbox\" ><label for=\"sk-estimator-id-7\" class=\"sk-toggleable__label sk-toggleable__label-arrow\">DecisionTreeClassifier</label><div class=\"sk-toggleable__content\"><pre>DecisionTreeClassifier(random_state=42)</pre></div></div></div></div></div></div></div></div></div></div>"
      ],
      "text/plain": [
       "GridSearchCV(cv=10, estimator=DecisionTreeClassifier(random_state=42),\n",
       "             param_grid=[{'criterion': ['gini'],\n",
       "                          'min_samples_split': [2, 3, 4, 5]},\n",
       "                         {'criterion': ['entropy'],\n",
       "                          'min_samples_split': [2, 3, 4, 5]}],\n",
       "             scoring='accuracy')"
      ]
     },
     "execution_count": 51,
     "metadata": {},
     "output_type": "execute_result"
    }
   ],
   "source": [
    "#training the model\n",
    "\n",
    "from sklearn.tree import DecisionTreeClassifier\n",
    "classifier_tree=DecisionTreeClassifier(random_state=42,splitter='best')\n",
    "params=[{'min_samples_split':[2,3,4,5],'criterion':['gini']},{'min_samples_split':[2,3,4,5],'criterion':['entropy']}]\n",
    "\n",
    "model_gridtree=GridSearchCV(classifier_tree,params,scoring='accuracy',cv=10)\n",
    "model_gridtree.fit(x_train,y_train)"
   ]
  },
  {
   "cell_type": "code",
   "execution_count": 52,
   "id": "7e9a5306",
   "metadata": {
    "id": "7e9a5306",
    "outputId": "fb8b5879-a297-4497-e0c7-ad68e765f950"
   },
   "outputs": [
    {
     "data": {
      "text/plain": [
       "{'criterion': 'gini', 'min_samples_split': 2}"
      ]
     },
     "execution_count": 52,
     "metadata": {},
     "output_type": "execute_result"
    }
   ],
   "source": [
    "#get the best parameters\n",
    "\n",
    "model_gridtree.best_params_"
   ]
  },
  {
   "cell_type": "code",
   "execution_count": 53,
   "id": "f2a21236",
   "metadata": {
    "id": "f2a21236",
    "outputId": "a5b7517a-0112-4e4b-e6f2-c66330709d7c"
   },
   "outputs": [
    {
     "data": {
      "text/plain": [
       "array([1, 0, 0, 1, 0, 1, 0, 0, 1, 0, 0, 1, 1, 1, 0, 1, 0, 1, 0, 0, 1, 1,\n",
       "       0, 0, 0, 0, 1, 1, 0, 1, 0, 1, 1, 0, 0, 1, 0, 1, 0, 0, 0, 1, 1, 0,\n",
       "       0, 0, 1, 0, 0, 1, 1, 1, 1, 0, 0, 0, 1, 0, 1, 1, 0, 0, 0, 1, 0, 0,\n",
       "       1, 0, 1, 1, 1, 0, 1, 0, 1, 0, 0, 0, 0, 0, 1, 0, 0, 1, 1, 0, 0, 0,\n",
       "       0, 0, 0, 1, 0, 1, 0, 0, 0, 0, 1, 0, 0, 1, 1, 0, 1, 0, 0, 0, 0, 0,\n",
       "       1, 0, 1, 0, 1, 0, 1, 0, 1, 0, 0, 0, 0, 0, 1, 1, 1, 0, 1, 0, 0, 1,\n",
       "       1, 0, 0, 0, 0, 0, 0, 1, 1, 0, 0, 1, 1, 0, 1, 0, 0, 0, 0, 1, 0, 0,\n",
       "       0, 0, 1, 1, 1, 1, 0, 0, 0, 1, 1, 0, 1, 0, 0, 1, 0, 0, 1, 0, 1, 1,\n",
       "       1, 1, 0, 0, 0, 0, 0, 1, 0, 1, 0, 1, 1, 0, 0, 1])"
      ]
     },
     "execution_count": 53,
     "metadata": {},
     "output_type": "execute_result"
    }
   ],
   "source": [
    "#predicting the model\n",
    "y_pred_tree=model_gridtree.predict(x_test)\n",
    "y_pred_tree"
   ]
  },
  {
   "cell_type": "code",
   "execution_count": 54,
   "id": "18037677",
   "metadata": {
    "id": "18037677",
    "outputId": "6366a9c4-b1bc-4d14-8c56-1b0d0faac3ef"
   },
   "outputs": [
    {
     "name": "stdout",
     "output_type": "stream",
     "text": [
      "0.6770833333333334\n",
      "              precision    recall  f1-score   support\n",
      "\n",
      "           0       0.68      0.75      0.71       103\n",
      "           1       0.67      0.60      0.63        89\n",
      "\n",
      "    accuracy                           0.68       192\n",
      "   macro avg       0.68      0.67      0.67       192\n",
      "weighted avg       0.68      0.68      0.67       192\n",
      "\n",
      "[[77 26]\n",
      " [36 53]]\n"
     ]
    }
   ],
   "source": [
    "#finding accuracy ,classification report and confusion matrix\n",
    "\n",
    "print(accuracy_score(y_test,y_pred_tree))\n",
    "print(classification_report(y_test,y_pred_tree))\n",
    "print(confusion_matrix(y_test,y_pred_tree))\n"
   ]
  },
  {
   "cell_type": "markdown",
   "id": "a1742d4e",
   "metadata": {
    "id": "a1742d4e"
   },
   "source": [
    "## 4) Random Forest with GridsearchCv"
   ]
  },
  {
   "cell_type": "code",
   "execution_count": 55,
   "id": "38c37387",
   "metadata": {
    "id": "38c37387",
    "outputId": "9a905516-3976-4692-b314-eff3b4c93b2c"
   },
   "outputs": [
    {
     "data": {
      "text/html": [
       "<style>#sk-container-id-4 {color: black;background-color: white;}#sk-container-id-4 pre{padding: 0;}#sk-container-id-4 div.sk-toggleable {background-color: white;}#sk-container-id-4 label.sk-toggleable__label {cursor: pointer;display: block;width: 100%;margin-bottom: 0;padding: 0.3em;box-sizing: border-box;text-align: center;}#sk-container-id-4 label.sk-toggleable__label-arrow:before {content: \"▸\";float: left;margin-right: 0.25em;color: #696969;}#sk-container-id-4 label.sk-toggleable__label-arrow:hover:before {color: black;}#sk-container-id-4 div.sk-estimator:hover label.sk-toggleable__label-arrow:before {color: black;}#sk-container-id-4 div.sk-toggleable__content {max-height: 0;max-width: 0;overflow: hidden;text-align: left;background-color: #f0f8ff;}#sk-container-id-4 div.sk-toggleable__content pre {margin: 0.2em;color: black;border-radius: 0.25em;background-color: #f0f8ff;}#sk-container-id-4 input.sk-toggleable__control:checked~div.sk-toggleable__content {max-height: 200px;max-width: 100%;overflow: auto;}#sk-container-id-4 input.sk-toggleable__control:checked~label.sk-toggleable__label-arrow:before {content: \"▾\";}#sk-container-id-4 div.sk-estimator input.sk-toggleable__control:checked~label.sk-toggleable__label {background-color: #d4ebff;}#sk-container-id-4 div.sk-label input.sk-toggleable__control:checked~label.sk-toggleable__label {background-color: #d4ebff;}#sk-container-id-4 input.sk-hidden--visually {border: 0;clip: rect(1px 1px 1px 1px);clip: rect(1px, 1px, 1px, 1px);height: 1px;margin: -1px;overflow: hidden;padding: 0;position: absolute;width: 1px;}#sk-container-id-4 div.sk-estimator {font-family: monospace;background-color: #f0f8ff;border: 1px dotted black;border-radius: 0.25em;box-sizing: border-box;margin-bottom: 0.5em;}#sk-container-id-4 div.sk-estimator:hover {background-color: #d4ebff;}#sk-container-id-4 div.sk-parallel-item::after {content: \"\";width: 100%;border-bottom: 1px solid gray;flex-grow: 1;}#sk-container-id-4 div.sk-label:hover label.sk-toggleable__label {background-color: #d4ebff;}#sk-container-id-4 div.sk-serial::before {content: \"\";position: absolute;border-left: 1px solid gray;box-sizing: border-box;top: 0;bottom: 0;left: 50%;z-index: 0;}#sk-container-id-4 div.sk-serial {display: flex;flex-direction: column;align-items: center;background-color: white;padding-right: 0.2em;padding-left: 0.2em;position: relative;}#sk-container-id-4 div.sk-item {position: relative;z-index: 1;}#sk-container-id-4 div.sk-parallel {display: flex;align-items: stretch;justify-content: center;background-color: white;position: relative;}#sk-container-id-4 div.sk-item::before, #sk-container-id-4 div.sk-parallel-item::before {content: \"\";position: absolute;border-left: 1px solid gray;box-sizing: border-box;top: 0;bottom: 0;left: 50%;z-index: -1;}#sk-container-id-4 div.sk-parallel-item {display: flex;flex-direction: column;z-index: 1;position: relative;background-color: white;}#sk-container-id-4 div.sk-parallel-item:first-child::after {align-self: flex-end;width: 50%;}#sk-container-id-4 div.sk-parallel-item:last-child::after {align-self: flex-start;width: 50%;}#sk-container-id-4 div.sk-parallel-item:only-child::after {width: 0;}#sk-container-id-4 div.sk-dashed-wrapped {border: 1px dashed gray;margin: 0 0.4em 0.5em 0.4em;box-sizing: border-box;padding-bottom: 0.4em;background-color: white;}#sk-container-id-4 div.sk-label label {font-family: monospace;font-weight: bold;display: inline-block;line-height: 1.2em;}#sk-container-id-4 div.sk-label-container {text-align: center;}#sk-container-id-4 div.sk-container {/* jupyter's `normalize.less` sets `[hidden] { display: none; }` but bootstrap.min.css set `[hidden] { display: none !important; }` so we also need the `!important` here to be able to override the default hidden behavior on the sphinx rendered scikit-learn.org. See: https://github.com/scikit-learn/scikit-learn/issues/21755 */display: inline-block !important;position: relative;}#sk-container-id-4 div.sk-text-repr-fallback {display: none;}</style><div id=\"sk-container-id-4\" class=\"sk-top-container\"><div class=\"sk-text-repr-fallback\"><pre>GridSearchCV(cv=10, estimator=RandomForestClassifier(),\n",
       "             param_grid={&#x27;criterion&#x27;: [&#x27;gini&#x27;, &#x27;entropy&#x27;],\n",
       "                         &#x27;max_depth&#x27;: [None, 10, 20],\n",
       "                         &#x27;min_samples_leaf&#x27;: [1, 2, 4],\n",
       "                         &#x27;min_samples_split&#x27;: [2, 5, 10],\n",
       "                         &#x27;n_estimators&#x27;: [20, 30, 50, 70, 80]},\n",
       "             scoring=&#x27;accuracy&#x27;)</pre><b>In a Jupyter environment, please rerun this cell to show the HTML representation or trust the notebook. <br />On GitHub, the HTML representation is unable to render, please try loading this page with nbviewer.org.</b></div><div class=\"sk-container\" hidden><div class=\"sk-item sk-dashed-wrapped\"><div class=\"sk-label-container\"><div class=\"sk-label sk-toggleable\"><input class=\"sk-toggleable__control sk-hidden--visually\" id=\"sk-estimator-id-8\" type=\"checkbox\" ><label for=\"sk-estimator-id-8\" class=\"sk-toggleable__label sk-toggleable__label-arrow\">GridSearchCV</label><div class=\"sk-toggleable__content\"><pre>GridSearchCV(cv=10, estimator=RandomForestClassifier(),\n",
       "             param_grid={&#x27;criterion&#x27;: [&#x27;gini&#x27;, &#x27;entropy&#x27;],\n",
       "                         &#x27;max_depth&#x27;: [None, 10, 20],\n",
       "                         &#x27;min_samples_leaf&#x27;: [1, 2, 4],\n",
       "                         &#x27;min_samples_split&#x27;: [2, 5, 10],\n",
       "                         &#x27;n_estimators&#x27;: [20, 30, 50, 70, 80]},\n",
       "             scoring=&#x27;accuracy&#x27;)</pre></div></div></div><div class=\"sk-parallel\"><div class=\"sk-parallel-item\"><div class=\"sk-item\"><div class=\"sk-label-container\"><div class=\"sk-label sk-toggleable\"><input class=\"sk-toggleable__control sk-hidden--visually\" id=\"sk-estimator-id-9\" type=\"checkbox\" ><label for=\"sk-estimator-id-9\" class=\"sk-toggleable__label sk-toggleable__label-arrow\">estimator: RandomForestClassifier</label><div class=\"sk-toggleable__content\"><pre>RandomForestClassifier()</pre></div></div></div><div class=\"sk-serial\"><div class=\"sk-item\"><div class=\"sk-estimator sk-toggleable\"><input class=\"sk-toggleable__control sk-hidden--visually\" id=\"sk-estimator-id-10\" type=\"checkbox\" ><label for=\"sk-estimator-id-10\" class=\"sk-toggleable__label sk-toggleable__label-arrow\">RandomForestClassifier</label><div class=\"sk-toggleable__content\"><pre>RandomForestClassifier()</pre></div></div></div></div></div></div></div></div></div></div>"
      ],
      "text/plain": [
       "GridSearchCV(cv=10, estimator=RandomForestClassifier(),\n",
       "             param_grid={'criterion': ['gini', 'entropy'],\n",
       "                         'max_depth': [None, 10, 20],\n",
       "                         'min_samples_leaf': [1, 2, 4],\n",
       "                         'min_samples_split': [2, 5, 10],\n",
       "                         'n_estimators': [20, 30, 50, 70, 80]},\n",
       "             scoring='accuracy')"
      ]
     },
     "execution_count": 55,
     "metadata": {},
     "output_type": "execute_result"
    }
   ],
   "source": [
    "#training the model\n",
    "\n",
    "from sklearn.ensemble import RandomForestClassifier\n",
    "\n",
    "rfc=RandomForestClassifier()\n",
    "params = {\n",
    "    'n_estimators': [20,30,50,70,80],\n",
    "    'criterion': ['gini', 'entropy'],\n",
    "    'max_depth': [None, 10, 20],\n",
    "    'min_samples_split': [2, 5, 10],\n",
    "    'min_samples_leaf': [1, 2, 4]}\n",
    "\n",
    "rfc_grid=GridSearchCV(rfc,params,scoring='accuracy',cv=10)\n",
    "rfc_grid.fit(x_train,y_train)"
   ]
  },
  {
   "cell_type": "code",
   "execution_count": 56,
   "id": "8563386f",
   "metadata": {
    "id": "8563386f",
    "outputId": "ed644df7-443b-4ca6-91a4-4f6948a47508"
   },
   "outputs": [
    {
     "data": {
      "text/plain": [
       "{'criterion': 'gini',\n",
       " 'max_depth': 10,\n",
       " 'min_samples_leaf': 4,\n",
       " 'min_samples_split': 10,\n",
       " 'n_estimators': 30}"
      ]
     },
     "execution_count": 56,
     "metadata": {},
     "output_type": "execute_result"
    }
   ],
   "source": [
    "rfc_grid.best_params_"
   ]
  },
  {
   "cell_type": "code",
   "execution_count": 57,
   "id": "059226a3",
   "metadata": {
    "id": "059226a3",
    "outputId": "1e5643b0-955e-4e25-903d-f11d1fbf0f5d"
   },
   "outputs": [
    {
     "data": {
      "text/plain": [
       "array([1, 0, 0, 0, 0, 0, 1, 0, 1, 0, 0, 0, 1, 1, 0, 1, 1, 1, 0, 0, 1, 0,\n",
       "       1, 1, 1, 0, 1, 1, 0, 1, 1, 1, 1, 0, 0, 1, 1, 0, 0, 0, 0, 0, 0, 0,\n",
       "       0, 0, 1, 0, 1, 1, 1, 0, 1, 0, 1, 0, 1, 0, 1, 1, 0, 0, 0, 0, 0, 0,\n",
       "       0, 0, 1, 0, 1, 1, 0, 1, 1, 0, 0, 0, 0, 0, 1, 0, 0, 1, 1, 0, 0, 0,\n",
       "       0, 0, 0, 1, 0, 1, 0, 0, 0, 0, 1, 0, 0, 1, 1, 1, 1, 0, 0, 1, 0, 1,\n",
       "       1, 1, 1, 0, 1, 0, 1, 0, 1, 0, 0, 0, 0, 0, 0, 1, 0, 1, 1, 0, 1, 1,\n",
       "       1, 0, 0, 0, 0, 0, 0, 1, 1, 0, 0, 1, 1, 1, 1, 0, 0, 0, 0, 1, 1, 1,\n",
       "       0, 1, 0, 0, 0, 1, 1, 0, 0, 1, 1, 0, 1, 0, 1, 1, 0, 0, 1, 0, 0, 1,\n",
       "       1, 1, 0, 0, 0, 0, 1, 1, 0, 1, 0, 1, 1, 1, 1, 1])"
      ]
     },
     "execution_count": 57,
     "metadata": {},
     "output_type": "execute_result"
    }
   ],
   "source": [
    "#predicting the model\n",
    "\n",
    "y_pred_rfc=rfc_grid.predict(x_test)\n",
    "y_pred_rfc"
   ]
  },
  {
   "cell_type": "code",
   "execution_count": 58,
   "id": "310c6a36",
   "metadata": {
    "id": "310c6a36",
    "outputId": "d5d5dc91-e5a3-4f4e-921c-67540d83bf2c"
   },
   "outputs": [
    {
     "name": "stdout",
     "output_type": "stream",
     "text": [
      "0.7708333333333334\n",
      "              precision    recall  f1-score   support\n",
      "\n",
      "           0       0.78      0.80      0.79       103\n",
      "           1       0.76      0.74      0.75        89\n",
      "\n",
      "    accuracy                           0.77       192\n",
      "   macro avg       0.77      0.77      0.77       192\n",
      "weighted avg       0.77      0.77      0.77       192\n",
      "\n",
      "[[82 21]\n",
      " [23 66]]\n"
     ]
    }
   ],
   "source": [
    "#finding accuracy ,classification report and confusion matrix\n",
    "\n",
    "print(accuracy_score(y_test,y_pred_rfc))\n",
    "print(classification_report(y_test,y_pred_rfc))\n",
    "print(confusion_matrix(y_test,y_pred_rfc))"
   ]
  },
  {
   "cell_type": "markdown",
   "id": "69f5ac65",
   "metadata": {
    "id": "69f5ac65"
   },
   "source": [
    "## 5) Naive Bayes Bernoulli"
   ]
  },
  {
   "cell_type": "code",
   "execution_count": 59,
   "id": "6aa1295a",
   "metadata": {
    "id": "6aa1295a",
    "outputId": "b0c7b1b1-029c-4c8e-eff2-c521ad099fe2"
   },
   "outputs": [
    {
     "data": {
      "text/html": [
       "<style>#sk-container-id-5 {color: black;background-color: white;}#sk-container-id-5 pre{padding: 0;}#sk-container-id-5 div.sk-toggleable {background-color: white;}#sk-container-id-5 label.sk-toggleable__label {cursor: pointer;display: block;width: 100%;margin-bottom: 0;padding: 0.3em;box-sizing: border-box;text-align: center;}#sk-container-id-5 label.sk-toggleable__label-arrow:before {content: \"▸\";float: left;margin-right: 0.25em;color: #696969;}#sk-container-id-5 label.sk-toggleable__label-arrow:hover:before {color: black;}#sk-container-id-5 div.sk-estimator:hover label.sk-toggleable__label-arrow:before {color: black;}#sk-container-id-5 div.sk-toggleable__content {max-height: 0;max-width: 0;overflow: hidden;text-align: left;background-color: #f0f8ff;}#sk-container-id-5 div.sk-toggleable__content pre {margin: 0.2em;color: black;border-radius: 0.25em;background-color: #f0f8ff;}#sk-container-id-5 input.sk-toggleable__control:checked~div.sk-toggleable__content {max-height: 200px;max-width: 100%;overflow: auto;}#sk-container-id-5 input.sk-toggleable__control:checked~label.sk-toggleable__label-arrow:before {content: \"▾\";}#sk-container-id-5 div.sk-estimator input.sk-toggleable__control:checked~label.sk-toggleable__label {background-color: #d4ebff;}#sk-container-id-5 div.sk-label input.sk-toggleable__control:checked~label.sk-toggleable__label {background-color: #d4ebff;}#sk-container-id-5 input.sk-hidden--visually {border: 0;clip: rect(1px 1px 1px 1px);clip: rect(1px, 1px, 1px, 1px);height: 1px;margin: -1px;overflow: hidden;padding: 0;position: absolute;width: 1px;}#sk-container-id-5 div.sk-estimator {font-family: monospace;background-color: #f0f8ff;border: 1px dotted black;border-radius: 0.25em;box-sizing: border-box;margin-bottom: 0.5em;}#sk-container-id-5 div.sk-estimator:hover {background-color: #d4ebff;}#sk-container-id-5 div.sk-parallel-item::after {content: \"\";width: 100%;border-bottom: 1px solid gray;flex-grow: 1;}#sk-container-id-5 div.sk-label:hover label.sk-toggleable__label {background-color: #d4ebff;}#sk-container-id-5 div.sk-serial::before {content: \"\";position: absolute;border-left: 1px solid gray;box-sizing: border-box;top: 0;bottom: 0;left: 50%;z-index: 0;}#sk-container-id-5 div.sk-serial {display: flex;flex-direction: column;align-items: center;background-color: white;padding-right: 0.2em;padding-left: 0.2em;position: relative;}#sk-container-id-5 div.sk-item {position: relative;z-index: 1;}#sk-container-id-5 div.sk-parallel {display: flex;align-items: stretch;justify-content: center;background-color: white;position: relative;}#sk-container-id-5 div.sk-item::before, #sk-container-id-5 div.sk-parallel-item::before {content: \"\";position: absolute;border-left: 1px solid gray;box-sizing: border-box;top: 0;bottom: 0;left: 50%;z-index: -1;}#sk-container-id-5 div.sk-parallel-item {display: flex;flex-direction: column;z-index: 1;position: relative;background-color: white;}#sk-container-id-5 div.sk-parallel-item:first-child::after {align-self: flex-end;width: 50%;}#sk-container-id-5 div.sk-parallel-item:last-child::after {align-self: flex-start;width: 50%;}#sk-container-id-5 div.sk-parallel-item:only-child::after {width: 0;}#sk-container-id-5 div.sk-dashed-wrapped {border: 1px dashed gray;margin: 0 0.4em 0.5em 0.4em;box-sizing: border-box;padding-bottom: 0.4em;background-color: white;}#sk-container-id-5 div.sk-label label {font-family: monospace;font-weight: bold;display: inline-block;line-height: 1.2em;}#sk-container-id-5 div.sk-label-container {text-align: center;}#sk-container-id-5 div.sk-container {/* jupyter's `normalize.less` sets `[hidden] { display: none; }` but bootstrap.min.css set `[hidden] { display: none !important; }` so we also need the `!important` here to be able to override the default hidden behavior on the sphinx rendered scikit-learn.org. See: https://github.com/scikit-learn/scikit-learn/issues/21755 */display: inline-block !important;position: relative;}#sk-container-id-5 div.sk-text-repr-fallback {display: none;}</style><div id=\"sk-container-id-5\" class=\"sk-top-container\"><div class=\"sk-text-repr-fallback\"><pre>BernoulliNB()</pre><b>In a Jupyter environment, please rerun this cell to show the HTML representation or trust the notebook. <br />On GitHub, the HTML representation is unable to render, please try loading this page with nbviewer.org.</b></div><div class=\"sk-container\" hidden><div class=\"sk-item\"><div class=\"sk-estimator sk-toggleable\"><input class=\"sk-toggleable__control sk-hidden--visually\" id=\"sk-estimator-id-11\" type=\"checkbox\" checked><label for=\"sk-estimator-id-11\" class=\"sk-toggleable__label sk-toggleable__label-arrow\">BernoulliNB</label><div class=\"sk-toggleable__content\"><pre>BernoulliNB()</pre></div></div></div></div></div>"
      ],
      "text/plain": [
       "BernoulliNB()"
      ]
     },
     "execution_count": 59,
     "metadata": {},
     "output_type": "execute_result"
    }
   ],
   "source": [
    "#training the model\n",
    "\n",
    "from sklearn.naive_bayes import BernoulliNB\n",
    "model_nb=BernoulliNB()\n",
    "model_nb.fit(x_train,y_train)"
   ]
  },
  {
   "cell_type": "code",
   "execution_count": 60,
   "id": "7a877c4d",
   "metadata": {
    "id": "7a877c4d",
    "outputId": "3a0b68ac-5ae5-4615-b033-433653fdd2bb"
   },
   "outputs": [
    {
     "data": {
      "text/plain": [
       "array([1, 0, 1, 1, 0, 0, 1, 0, 0, 0, 0, 0, 1, 1, 1, 1, 1, 1, 0, 0, 1, 1,\n",
       "       1, 1, 0, 1, 1, 1, 0, 0, 1, 1, 1, 0, 0, 1, 0, 0, 0, 1, 1, 1, 0, 0,\n",
       "       0, 0, 1, 0, 1, 0, 1, 0, 0, 0, 0, 1, 1, 0, 1, 0, 0, 0, 0, 0, 0, 0,\n",
       "       0, 0, 1, 0, 0, 1, 0, 1, 1, 0, 0, 0, 0, 0, 1, 0, 0, 0, 1, 0, 0, 0,\n",
       "       0, 1, 1, 0, 0, 1, 0, 0, 0, 0, 1, 0, 0, 1, 1, 1, 0, 0, 0, 1, 0, 0,\n",
       "       1, 1, 1, 0, 1, 0, 0, 0, 1, 0, 0, 0, 0, 1, 0, 1, 0, 1, 1, 0, 1, 1,\n",
       "       1, 0, 0, 1, 0, 0, 0, 1, 1, 0, 0, 0, 0, 0, 0, 0, 0, 0, 0, 1, 0, 1,\n",
       "       0, 0, 1, 0, 1, 1, 0, 0, 0, 1, 1, 0, 1, 0, 1, 1, 1, 0, 0, 0, 0, 1,\n",
       "       1, 1, 0, 1, 0, 0, 1, 1, 0, 1, 1, 0, 1, 1, 0, 1])"
      ]
     },
     "execution_count": 60,
     "metadata": {},
     "output_type": "execute_result"
    }
   ],
   "source": [
    "#predicting the model\n",
    "\n",
    "y_pred_nb=model_nb.predict(x_test)\n",
    "y_pred_nb"
   ]
  },
  {
   "cell_type": "code",
   "execution_count": 61,
   "id": "cc5a0c63",
   "metadata": {
    "id": "cc5a0c63",
    "outputId": "86e6bcb7-2a40-450e-9597-1c652ed7f4ed"
   },
   "outputs": [
    {
     "name": "stdout",
     "output_type": "stream",
     "text": [
      "0.71875\n",
      "              precision    recall  f1-score   support\n",
      "\n",
      "           0       0.72      0.78      0.75       103\n",
      "           1       0.72      0.65      0.68        89\n",
      "\n",
      "    accuracy                           0.72       192\n",
      "   macro avg       0.72      0.71      0.72       192\n",
      "weighted avg       0.72      0.72      0.72       192\n",
      "\n",
      "[[80 23]\n",
      " [31 58]]\n"
     ]
    }
   ],
   "source": [
    "#finding accuracy , classification report and confusion matrix\n",
    "\n",
    "print(accuracy_score(y_test,y_pred_nb))\n",
    "print(classification_report(y_test,y_pred_nb))\n",
    "print(confusion_matrix(y_test,y_pred_nb))"
   ]
  },
  {
   "cell_type": "markdown",
   "id": "604b4d97",
   "metadata": {
    "id": "604b4d97"
   },
   "source": [
    "## 6) K-Nearest Neighbor with GridSearchCV"
   ]
  },
  {
   "cell_type": "code",
   "execution_count": 62,
   "id": "b01e3c0e",
   "metadata": {
    "id": "b01e3c0e",
    "outputId": "809d8bf3-1233-4061-b965-2ce20faaac11"
   },
   "outputs": [
    {
     "data": {
      "text/html": [
       "<style>#sk-container-id-6 {color: black;background-color: white;}#sk-container-id-6 pre{padding: 0;}#sk-container-id-6 div.sk-toggleable {background-color: white;}#sk-container-id-6 label.sk-toggleable__label {cursor: pointer;display: block;width: 100%;margin-bottom: 0;padding: 0.3em;box-sizing: border-box;text-align: center;}#sk-container-id-6 label.sk-toggleable__label-arrow:before {content: \"▸\";float: left;margin-right: 0.25em;color: #696969;}#sk-container-id-6 label.sk-toggleable__label-arrow:hover:before {color: black;}#sk-container-id-6 div.sk-estimator:hover label.sk-toggleable__label-arrow:before {color: black;}#sk-container-id-6 div.sk-toggleable__content {max-height: 0;max-width: 0;overflow: hidden;text-align: left;background-color: #f0f8ff;}#sk-container-id-6 div.sk-toggleable__content pre {margin: 0.2em;color: black;border-radius: 0.25em;background-color: #f0f8ff;}#sk-container-id-6 input.sk-toggleable__control:checked~div.sk-toggleable__content {max-height: 200px;max-width: 100%;overflow: auto;}#sk-container-id-6 input.sk-toggleable__control:checked~label.sk-toggleable__label-arrow:before {content: \"▾\";}#sk-container-id-6 div.sk-estimator input.sk-toggleable__control:checked~label.sk-toggleable__label {background-color: #d4ebff;}#sk-container-id-6 div.sk-label input.sk-toggleable__control:checked~label.sk-toggleable__label {background-color: #d4ebff;}#sk-container-id-6 input.sk-hidden--visually {border: 0;clip: rect(1px 1px 1px 1px);clip: rect(1px, 1px, 1px, 1px);height: 1px;margin: -1px;overflow: hidden;padding: 0;position: absolute;width: 1px;}#sk-container-id-6 div.sk-estimator {font-family: monospace;background-color: #f0f8ff;border: 1px dotted black;border-radius: 0.25em;box-sizing: border-box;margin-bottom: 0.5em;}#sk-container-id-6 div.sk-estimator:hover {background-color: #d4ebff;}#sk-container-id-6 div.sk-parallel-item::after {content: \"\";width: 100%;border-bottom: 1px solid gray;flex-grow: 1;}#sk-container-id-6 div.sk-label:hover label.sk-toggleable__label {background-color: #d4ebff;}#sk-container-id-6 div.sk-serial::before {content: \"\";position: absolute;border-left: 1px solid gray;box-sizing: border-box;top: 0;bottom: 0;left: 50%;z-index: 0;}#sk-container-id-6 div.sk-serial {display: flex;flex-direction: column;align-items: center;background-color: white;padding-right: 0.2em;padding-left: 0.2em;position: relative;}#sk-container-id-6 div.sk-item {position: relative;z-index: 1;}#sk-container-id-6 div.sk-parallel {display: flex;align-items: stretch;justify-content: center;background-color: white;position: relative;}#sk-container-id-6 div.sk-item::before, #sk-container-id-6 div.sk-parallel-item::before {content: \"\";position: absolute;border-left: 1px solid gray;box-sizing: border-box;top: 0;bottom: 0;left: 50%;z-index: -1;}#sk-container-id-6 div.sk-parallel-item {display: flex;flex-direction: column;z-index: 1;position: relative;background-color: white;}#sk-container-id-6 div.sk-parallel-item:first-child::after {align-self: flex-end;width: 50%;}#sk-container-id-6 div.sk-parallel-item:last-child::after {align-self: flex-start;width: 50%;}#sk-container-id-6 div.sk-parallel-item:only-child::after {width: 0;}#sk-container-id-6 div.sk-dashed-wrapped {border: 1px dashed gray;margin: 0 0.4em 0.5em 0.4em;box-sizing: border-box;padding-bottom: 0.4em;background-color: white;}#sk-container-id-6 div.sk-label label {font-family: monospace;font-weight: bold;display: inline-block;line-height: 1.2em;}#sk-container-id-6 div.sk-label-container {text-align: center;}#sk-container-id-6 div.sk-container {/* jupyter's `normalize.less` sets `[hidden] { display: none; }` but bootstrap.min.css set `[hidden] { display: none !important; }` so we also need the `!important` here to be able to override the default hidden behavior on the sphinx rendered scikit-learn.org. See: https://github.com/scikit-learn/scikit-learn/issues/21755 */display: inline-block !important;position: relative;}#sk-container-id-6 div.sk-text-repr-fallback {display: none;}</style><div id=\"sk-container-id-6\" class=\"sk-top-container\"><div class=\"sk-text-repr-fallback\"><pre>GridSearchCV(cv=10, estimator=KNeighborsClassifier(),\n",
       "             param_grid={&#x27;n_neighbors&#x27;: [3, 5, 7, 10]}, scoring=&#x27;accuracy&#x27;)</pre><b>In a Jupyter environment, please rerun this cell to show the HTML representation or trust the notebook. <br />On GitHub, the HTML representation is unable to render, please try loading this page with nbviewer.org.</b></div><div class=\"sk-container\" hidden><div class=\"sk-item sk-dashed-wrapped\"><div class=\"sk-label-container\"><div class=\"sk-label sk-toggleable\"><input class=\"sk-toggleable__control sk-hidden--visually\" id=\"sk-estimator-id-12\" type=\"checkbox\" ><label for=\"sk-estimator-id-12\" class=\"sk-toggleable__label sk-toggleable__label-arrow\">GridSearchCV</label><div class=\"sk-toggleable__content\"><pre>GridSearchCV(cv=10, estimator=KNeighborsClassifier(),\n",
       "             param_grid={&#x27;n_neighbors&#x27;: [3, 5, 7, 10]}, scoring=&#x27;accuracy&#x27;)</pre></div></div></div><div class=\"sk-parallel\"><div class=\"sk-parallel-item\"><div class=\"sk-item\"><div class=\"sk-label-container\"><div class=\"sk-label sk-toggleable\"><input class=\"sk-toggleable__control sk-hidden--visually\" id=\"sk-estimator-id-13\" type=\"checkbox\" ><label for=\"sk-estimator-id-13\" class=\"sk-toggleable__label sk-toggleable__label-arrow\">estimator: KNeighborsClassifier</label><div class=\"sk-toggleable__content\"><pre>KNeighborsClassifier()</pre></div></div></div><div class=\"sk-serial\"><div class=\"sk-item\"><div class=\"sk-estimator sk-toggleable\"><input class=\"sk-toggleable__control sk-hidden--visually\" id=\"sk-estimator-id-14\" type=\"checkbox\" ><label for=\"sk-estimator-id-14\" class=\"sk-toggleable__label sk-toggleable__label-arrow\">KNeighborsClassifier</label><div class=\"sk-toggleable__content\"><pre>KNeighborsClassifier()</pre></div></div></div></div></div></div></div></div></div></div>"
      ],
      "text/plain": [
       "GridSearchCV(cv=10, estimator=KNeighborsClassifier(),\n",
       "             param_grid={'n_neighbors': [3, 5, 7, 10]}, scoring='accuracy')"
      ]
     },
     "execution_count": 62,
     "metadata": {},
     "output_type": "execute_result"
    }
   ],
   "source": [
    "#training the model\n",
    "\n",
    "from sklearn.neighbors import KNeighborsClassifier\n",
    "knn=KNeighborsClassifier()\n",
    "params={'n_neighbors':[3,5,7,10]}\n",
    "knn_grid=GridSearchCV(knn,params,scoring='accuracy',cv=10)\n",
    "knn_grid.fit(x_train,y_train)"
   ]
  },
  {
   "cell_type": "code",
   "execution_count": 63,
   "id": "34f67a50",
   "metadata": {
    "id": "34f67a50",
    "outputId": "f9184536-6126-45bf-e7cc-97fc358bef1b"
   },
   "outputs": [
    {
     "data": {
      "text/plain": [
       "array([1, 0, 0, 0, 0, 1, 0, 0, 1, 0, 0, 0, 1, 1, 0, 1, 1, 1, 0, 0, 0, 0,\n",
       "       1, 0, 0, 0, 1, 1, 0, 1, 0, 0, 0, 0, 0, 1, 1, 0, 0, 0, 0, 0, 0, 0,\n",
       "       0, 0, 1, 0, 1, 1, 0, 1, 1, 1, 0, 0, 1, 0, 1, 1, 0, 0, 0, 0, 0, 0,\n",
       "       0, 0, 1, 1, 0, 1, 1, 0, 1, 0, 0, 0, 0, 0, 1, 1, 0, 1, 1, 0, 0, 0,\n",
       "       0, 1, 0, 1, 0, 0, 0, 0, 0, 0, 1, 0, 0, 1, 1, 0, 1, 0, 0, 0, 0, 0,\n",
       "       0, 1, 1, 0, 1, 0, 1, 0, 1, 0, 1, 1, 0, 0, 1, 1, 0, 1, 1, 0, 0, 0,\n",
       "       1, 0, 0, 1, 0, 0, 0, 1, 1, 0, 0, 1, 0, 1, 1, 0, 1, 0, 0, 1, 1, 1,\n",
       "       0, 1, 0, 0, 1, 1, 1, 0, 0, 1, 1, 0, 0, 0, 0, 1, 0, 0, 1, 0, 1, 1,\n",
       "       1, 1, 0, 0, 0, 0, 1, 1, 0, 1, 0, 1, 1, 1, 0, 1])"
      ]
     },
     "execution_count": 63,
     "metadata": {},
     "output_type": "execute_result"
    }
   ],
   "source": [
    "# predicting the model\n",
    "y_pred_knn=knn_grid.predict(x_test)\n",
    "y_pred_knn"
   ]
  },
  {
   "cell_type": "code",
   "execution_count": 64,
   "id": "b83073b4",
   "metadata": {
    "id": "b83073b4",
    "outputId": "35afa463-c4cf-41c8-d475-1ee9efca14b1"
   },
   "outputs": [
    {
     "name": "stdout",
     "output_type": "stream",
     "text": [
      "0.7083333333333334\n",
      "              precision    recall  f1-score   support\n",
      "\n",
      "           0       0.71      0.78      0.74       103\n",
      "           1       0.71      0.63      0.67        89\n",
      "\n",
      "    accuracy                           0.71       192\n",
      "   macro avg       0.71      0.70      0.70       192\n",
      "weighted avg       0.71      0.71      0.71       192\n",
      "\n",
      "[[80 23]\n",
      " [33 56]]\n"
     ]
    }
   ],
   "source": [
    "#finding accuracy ,classification report and confusion matrix\n",
    "\n",
    "print(accuracy_score(y_test,y_pred_knn))\n",
    "print(classification_report(y_test,y_pred_knn))\n",
    "print(confusion_matrix(y_test,y_pred_knn))"
   ]
  },
  {
   "cell_type": "markdown",
   "id": "e2225e26",
   "metadata": {
    "id": "e2225e26"
   },
   "source": [
    "## 7) XGBoost Classifier"
   ]
  },
  {
   "cell_type": "code",
   "execution_count": 65,
   "id": "a78598c0",
   "metadata": {
    "id": "a78598c0",
    "outputId": "825cf995-2148-4c44-d920-78419475095e"
   },
   "outputs": [
    {
     "name": "stdout",
     "output_type": "stream",
     "text": [
      "Requirement already satisfied: xgboost in c:\\users\\dell\\anaconda3\\lib\\site-packages (2.0.3)\n",
      "Requirement already satisfied: numpy in c:\\users\\dell\\anaconda3\\lib\\site-packages (from xgboost) (1.24.3)\n",
      "Requirement already satisfied: scipy in c:\\users\\dell\\anaconda3\\lib\\site-packages (from xgboost) (1.10.1)\n"
     ]
    }
   ],
   "source": [
    "!pip install xgboost"
   ]
  },
  {
   "cell_type": "code",
   "execution_count": 66,
   "id": "cac16ac2",
   "metadata": {
    "id": "cac16ac2",
    "outputId": "7b23380a-cb3f-4101-ae30-5171d14b06fb"
   },
   "outputs": [
    {
     "data": {
      "text/html": [
       "<style>#sk-container-id-7 {color: black;background-color: white;}#sk-container-id-7 pre{padding: 0;}#sk-container-id-7 div.sk-toggleable {background-color: white;}#sk-container-id-7 label.sk-toggleable__label {cursor: pointer;display: block;width: 100%;margin-bottom: 0;padding: 0.3em;box-sizing: border-box;text-align: center;}#sk-container-id-7 label.sk-toggleable__label-arrow:before {content: \"▸\";float: left;margin-right: 0.25em;color: #696969;}#sk-container-id-7 label.sk-toggleable__label-arrow:hover:before {color: black;}#sk-container-id-7 div.sk-estimator:hover label.sk-toggleable__label-arrow:before {color: black;}#sk-container-id-7 div.sk-toggleable__content {max-height: 0;max-width: 0;overflow: hidden;text-align: left;background-color: #f0f8ff;}#sk-container-id-7 div.sk-toggleable__content pre {margin: 0.2em;color: black;border-radius: 0.25em;background-color: #f0f8ff;}#sk-container-id-7 input.sk-toggleable__control:checked~div.sk-toggleable__content {max-height: 200px;max-width: 100%;overflow: auto;}#sk-container-id-7 input.sk-toggleable__control:checked~label.sk-toggleable__label-arrow:before {content: \"▾\";}#sk-container-id-7 div.sk-estimator input.sk-toggleable__control:checked~label.sk-toggleable__label {background-color: #d4ebff;}#sk-container-id-7 div.sk-label input.sk-toggleable__control:checked~label.sk-toggleable__label {background-color: #d4ebff;}#sk-container-id-7 input.sk-hidden--visually {border: 0;clip: rect(1px 1px 1px 1px);clip: rect(1px, 1px, 1px, 1px);height: 1px;margin: -1px;overflow: hidden;padding: 0;position: absolute;width: 1px;}#sk-container-id-7 div.sk-estimator {font-family: monospace;background-color: #f0f8ff;border: 1px dotted black;border-radius: 0.25em;box-sizing: border-box;margin-bottom: 0.5em;}#sk-container-id-7 div.sk-estimator:hover {background-color: #d4ebff;}#sk-container-id-7 div.sk-parallel-item::after {content: \"\";width: 100%;border-bottom: 1px solid gray;flex-grow: 1;}#sk-container-id-7 div.sk-label:hover label.sk-toggleable__label {background-color: #d4ebff;}#sk-container-id-7 div.sk-serial::before {content: \"\";position: absolute;border-left: 1px solid gray;box-sizing: border-box;top: 0;bottom: 0;left: 50%;z-index: 0;}#sk-container-id-7 div.sk-serial {display: flex;flex-direction: column;align-items: center;background-color: white;padding-right: 0.2em;padding-left: 0.2em;position: relative;}#sk-container-id-7 div.sk-item {position: relative;z-index: 1;}#sk-container-id-7 div.sk-parallel {display: flex;align-items: stretch;justify-content: center;background-color: white;position: relative;}#sk-container-id-7 div.sk-item::before, #sk-container-id-7 div.sk-parallel-item::before {content: \"\";position: absolute;border-left: 1px solid gray;box-sizing: border-box;top: 0;bottom: 0;left: 50%;z-index: -1;}#sk-container-id-7 div.sk-parallel-item {display: flex;flex-direction: column;z-index: 1;position: relative;background-color: white;}#sk-container-id-7 div.sk-parallel-item:first-child::after {align-self: flex-end;width: 50%;}#sk-container-id-7 div.sk-parallel-item:last-child::after {align-self: flex-start;width: 50%;}#sk-container-id-7 div.sk-parallel-item:only-child::after {width: 0;}#sk-container-id-7 div.sk-dashed-wrapped {border: 1px dashed gray;margin: 0 0.4em 0.5em 0.4em;box-sizing: border-box;padding-bottom: 0.4em;background-color: white;}#sk-container-id-7 div.sk-label label {font-family: monospace;font-weight: bold;display: inline-block;line-height: 1.2em;}#sk-container-id-7 div.sk-label-container {text-align: center;}#sk-container-id-7 div.sk-container {/* jupyter's `normalize.less` sets `[hidden] { display: none; }` but bootstrap.min.css set `[hidden] { display: none !important; }` so we also need the `!important` here to be able to override the default hidden behavior on the sphinx rendered scikit-learn.org. See: https://github.com/scikit-learn/scikit-learn/issues/21755 */display: inline-block !important;position: relative;}#sk-container-id-7 div.sk-text-repr-fallback {display: none;}</style><div id=\"sk-container-id-7\" class=\"sk-top-container\"><div class=\"sk-text-repr-fallback\"><pre>XGBClassifier(base_score=None, booster=None, callbacks=None,\n",
       "              colsample_bylevel=None, colsample_bynode=None,\n",
       "              colsample_bytree=0.8, device=None, early_stopping_rounds=None,\n",
       "              enable_categorical=False, eval_metric=&#x27;logloss&#x27;,\n",
       "              feature_types=None, gamma=0, grow_policy=None,\n",
       "              importance_type=None, interaction_constraints=None,\n",
       "              learning_rate=0.1, max_bin=None, max_cat_threshold=None,\n",
       "              max_cat_to_onehot=None, max_delta_step=None, max_depth=3,\n",
       "              max_leaves=None, min_child_weight=None, missing=nan,\n",
       "              monotone_constraints=None, multi_strategy=None, n_estimators=1000,\n",
       "              n_jobs=None, num_parallel_tree=None, random_state=None, ...)</pre><b>In a Jupyter environment, please rerun this cell to show the HTML representation or trust the notebook. <br />On GitHub, the HTML representation is unable to render, please try loading this page with nbviewer.org.</b></div><div class=\"sk-container\" hidden><div class=\"sk-item\"><div class=\"sk-estimator sk-toggleable\"><input class=\"sk-toggleable__control sk-hidden--visually\" id=\"sk-estimator-id-15\" type=\"checkbox\" checked><label for=\"sk-estimator-id-15\" class=\"sk-toggleable__label sk-toggleable__label-arrow\">XGBClassifier</label><div class=\"sk-toggleable__content\"><pre>XGBClassifier(base_score=None, booster=None, callbacks=None,\n",
       "              colsample_bylevel=None, colsample_bynode=None,\n",
       "              colsample_bytree=0.8, device=None, early_stopping_rounds=None,\n",
       "              enable_categorical=False, eval_metric=&#x27;logloss&#x27;,\n",
       "              feature_types=None, gamma=0, grow_policy=None,\n",
       "              importance_type=None, interaction_constraints=None,\n",
       "              learning_rate=0.1, max_bin=None, max_cat_threshold=None,\n",
       "              max_cat_to_onehot=None, max_delta_step=None, max_depth=3,\n",
       "              max_leaves=None, min_child_weight=None, missing=nan,\n",
       "              monotone_constraints=None, multi_strategy=None, n_estimators=1000,\n",
       "              n_jobs=None, num_parallel_tree=None, random_state=None, ...)</pre></div></div></div></div></div>"
      ],
      "text/plain": [
       "XGBClassifier(base_score=None, booster=None, callbacks=None,\n",
       "              colsample_bylevel=None, colsample_bynode=None,\n",
       "              colsample_bytree=0.8, device=None, early_stopping_rounds=None,\n",
       "              enable_categorical=False, eval_metric='logloss',\n",
       "              feature_types=None, gamma=0, grow_policy=None,\n",
       "              importance_type=None, interaction_constraints=None,\n",
       "              learning_rate=0.1, max_bin=None, max_cat_threshold=None,\n",
       "              max_cat_to_onehot=None, max_delta_step=None, max_depth=3,\n",
       "              max_leaves=None, min_child_weight=None, missing=nan,\n",
       "              monotone_constraints=None, multi_strategy=None, n_estimators=1000,\n",
       "              n_jobs=None, num_parallel_tree=None, random_state=None, ...)"
      ]
     },
     "execution_count": 66,
     "metadata": {},
     "output_type": "execute_result"
    }
   ],
   "source": [
    "#training the model\n",
    "from xgboost import XGBClassifier\n",
    "xgb_classifier =XGBClassifier(\n",
    "    n_estimators=1000,\n",
    "    learning_rate=0.1,\n",
    "    max_depth=3,\n",
    "    subsample=0.8,\n",
    "    colsample_bytree=0.8,\n",
    "    gamma=0,\n",
    "    reg_alpha=0,\n",
    "    reg_lambda=1,\n",
    "    scale_pos_weight=1,\n",
    "    objective='binary:logistic',\n",
    "    eval_metric='logloss'\n",
    ")\n",
    "xgb_classifier.fit(x_train,y_train)"
   ]
  },
  {
   "cell_type": "code",
   "execution_count": 67,
   "id": "9bdd88f9",
   "metadata": {
    "id": "9bdd88f9",
    "outputId": "5cd37585-10b7-4b50-9b1d-94bdedb2961e"
   },
   "outputs": [
    {
     "data": {
      "text/plain": [
       "array([1, 0, 0, 0, 0, 1, 0, 0, 1, 0, 0, 1, 1, 1, 0, 1, 1, 1, 0, 0, 1, 0,\n",
       "       1, 1, 1, 0, 1, 1, 0, 1, 1, 1, 1, 0, 0, 1, 1, 1, 0, 0, 0, 0, 0, 0,\n",
       "       0, 0, 1, 0, 1, 1, 0, 1, 1, 0, 1, 0, 1, 0, 0, 1, 0, 0, 0, 1, 0, 0,\n",
       "       0, 0, 1, 1, 0, 1, 0, 0, 1, 0, 0, 1, 0, 0, 1, 0, 0, 1, 1, 0, 0, 0,\n",
       "       0, 0, 0, 1, 0, 1, 0, 0, 0, 0, 1, 0, 0, 1, 1, 1, 0, 0, 0, 1, 0, 0,\n",
       "       1, 1, 1, 0, 1, 0, 1, 0, 1, 0, 0, 1, 0, 0, 1, 1, 0, 1, 1, 1, 1, 0,\n",
       "       0, 0, 0, 0, 0, 0, 0, 1, 1, 0, 0, 1, 1, 1, 1, 0, 0, 0, 0, 1, 1, 1,\n",
       "       0, 1, 0, 0, 1, 1, 1, 0, 0, 1, 1, 0, 1, 0, 0, 1, 0, 0, 1, 0, 1, 1,\n",
       "       1, 1, 0, 0, 0, 1, 0, 1, 0, 1, 0, 1, 1, 1, 1, 1])"
      ]
     },
     "execution_count": 67,
     "metadata": {},
     "output_type": "execute_result"
    }
   ],
   "source": [
    "#predicting the model\n",
    "\n",
    "y_pred_xgb=xgb_classifier.predict(x_test)\n",
    "y_pred_xgb"
   ]
  },
  {
   "cell_type": "code",
   "execution_count": 68,
   "id": "c5897835",
   "metadata": {
    "id": "c5897835",
    "outputId": "7d048840-37fa-4449-ccf6-5b455e701b40"
   },
   "outputs": [
    {
     "name": "stdout",
     "output_type": "stream",
     "text": [
      "0.6875\n",
      "              precision    recall  f1-score   support\n",
      "\n",
      "           0       0.71      0.71      0.71       103\n",
      "           1       0.66      0.66      0.66        89\n",
      "\n",
      "    accuracy                           0.69       192\n",
      "   macro avg       0.69      0.69      0.69       192\n",
      "weighted avg       0.69      0.69      0.69       192\n",
      "\n",
      "[[73 30]\n",
      " [30 59]]\n"
     ]
    }
   ],
   "source": [
    "#finding the accuracy ,classification report and confusion matrix\n",
    "\n",
    "print(accuracy_score(y_test,y_pred_xgb))\n",
    "print(classification_report(y_test,y_pred_xgb))\n",
    "print(confusion_matrix(y_test,y_pred_xgb))"
   ]
  },
  {
   "cell_type": "markdown",
   "id": "ee7af77b",
   "metadata": {
    "id": "ee7af77b"
   },
   "source": [
    "## 8) Artificial Neural Network"
   ]
  },
  {
   "cell_type": "code",
   "execution_count": 69,
   "id": "814ad500",
   "metadata": {
    "id": "814ad500",
    "outputId": "f2513a5b-8db6-4aa3-a419-2064aa89d1ed"
   },
   "outputs": [
    {
     "data": {
      "text/html": [
       "<style>#sk-container-id-8 {color: black;background-color: white;}#sk-container-id-8 pre{padding: 0;}#sk-container-id-8 div.sk-toggleable {background-color: white;}#sk-container-id-8 label.sk-toggleable__label {cursor: pointer;display: block;width: 100%;margin-bottom: 0;padding: 0.3em;box-sizing: border-box;text-align: center;}#sk-container-id-8 label.sk-toggleable__label-arrow:before {content: \"▸\";float: left;margin-right: 0.25em;color: #696969;}#sk-container-id-8 label.sk-toggleable__label-arrow:hover:before {color: black;}#sk-container-id-8 div.sk-estimator:hover label.sk-toggleable__label-arrow:before {color: black;}#sk-container-id-8 div.sk-toggleable__content {max-height: 0;max-width: 0;overflow: hidden;text-align: left;background-color: #f0f8ff;}#sk-container-id-8 div.sk-toggleable__content pre {margin: 0.2em;color: black;border-radius: 0.25em;background-color: #f0f8ff;}#sk-container-id-8 input.sk-toggleable__control:checked~div.sk-toggleable__content {max-height: 200px;max-width: 100%;overflow: auto;}#sk-container-id-8 input.sk-toggleable__control:checked~label.sk-toggleable__label-arrow:before {content: \"▾\";}#sk-container-id-8 div.sk-estimator input.sk-toggleable__control:checked~label.sk-toggleable__label {background-color: #d4ebff;}#sk-container-id-8 div.sk-label input.sk-toggleable__control:checked~label.sk-toggleable__label {background-color: #d4ebff;}#sk-container-id-8 input.sk-hidden--visually {border: 0;clip: rect(1px 1px 1px 1px);clip: rect(1px, 1px, 1px, 1px);height: 1px;margin: -1px;overflow: hidden;padding: 0;position: absolute;width: 1px;}#sk-container-id-8 div.sk-estimator {font-family: monospace;background-color: #f0f8ff;border: 1px dotted black;border-radius: 0.25em;box-sizing: border-box;margin-bottom: 0.5em;}#sk-container-id-8 div.sk-estimator:hover {background-color: #d4ebff;}#sk-container-id-8 div.sk-parallel-item::after {content: \"\";width: 100%;border-bottom: 1px solid gray;flex-grow: 1;}#sk-container-id-8 div.sk-label:hover label.sk-toggleable__label {background-color: #d4ebff;}#sk-container-id-8 div.sk-serial::before {content: \"\";position: absolute;border-left: 1px solid gray;box-sizing: border-box;top: 0;bottom: 0;left: 50%;z-index: 0;}#sk-container-id-8 div.sk-serial {display: flex;flex-direction: column;align-items: center;background-color: white;padding-right: 0.2em;padding-left: 0.2em;position: relative;}#sk-container-id-8 div.sk-item {position: relative;z-index: 1;}#sk-container-id-8 div.sk-parallel {display: flex;align-items: stretch;justify-content: center;background-color: white;position: relative;}#sk-container-id-8 div.sk-item::before, #sk-container-id-8 div.sk-parallel-item::before {content: \"\";position: absolute;border-left: 1px solid gray;box-sizing: border-box;top: 0;bottom: 0;left: 50%;z-index: -1;}#sk-container-id-8 div.sk-parallel-item {display: flex;flex-direction: column;z-index: 1;position: relative;background-color: white;}#sk-container-id-8 div.sk-parallel-item:first-child::after {align-self: flex-end;width: 50%;}#sk-container-id-8 div.sk-parallel-item:last-child::after {align-self: flex-start;width: 50%;}#sk-container-id-8 div.sk-parallel-item:only-child::after {width: 0;}#sk-container-id-8 div.sk-dashed-wrapped {border: 1px dashed gray;margin: 0 0.4em 0.5em 0.4em;box-sizing: border-box;padding-bottom: 0.4em;background-color: white;}#sk-container-id-8 div.sk-label label {font-family: monospace;font-weight: bold;display: inline-block;line-height: 1.2em;}#sk-container-id-8 div.sk-label-container {text-align: center;}#sk-container-id-8 div.sk-container {/* jupyter's `normalize.less` sets `[hidden] { display: none; }` but bootstrap.min.css set `[hidden] { display: none !important; }` so we also need the `!important` here to be able to override the default hidden behavior on the sphinx rendered scikit-learn.org. See: https://github.com/scikit-learn/scikit-learn/issues/21755 */display: inline-block !important;position: relative;}#sk-container-id-8 div.sk-text-repr-fallback {display: none;}</style><div id=\"sk-container-id-8\" class=\"sk-top-container\"><div class=\"sk-text-repr-fallback\"><pre>MLPClassifier(batch_size=10, hidden_layer_sizes=(100, 100, 100),\n",
       "              learning_rate_init=0.01, max_iter=2000, random_state=10)</pre><b>In a Jupyter environment, please rerun this cell to show the HTML representation or trust the notebook. <br />On GitHub, the HTML representation is unable to render, please try loading this page with nbviewer.org.</b></div><div class=\"sk-container\" hidden><div class=\"sk-item\"><div class=\"sk-estimator sk-toggleable\"><input class=\"sk-toggleable__control sk-hidden--visually\" id=\"sk-estimator-id-16\" type=\"checkbox\" checked><label for=\"sk-estimator-id-16\" class=\"sk-toggleable__label sk-toggleable__label-arrow\">MLPClassifier</label><div class=\"sk-toggleable__content\"><pre>MLPClassifier(batch_size=10, hidden_layer_sizes=(100, 100, 100),\n",
       "              learning_rate_init=0.01, max_iter=2000, random_state=10)</pre></div></div></div></div></div>"
      ],
      "text/plain": [
       "MLPClassifier(batch_size=10, hidden_layer_sizes=(100, 100, 100),\n",
       "              learning_rate_init=0.01, max_iter=2000, random_state=10)"
      ]
     },
     "execution_count": 69,
     "metadata": {},
     "output_type": "execute_result"
    }
   ],
   "source": [
    "# Training the model\n",
    "from sklearn.neural_network import MLPClassifier\n",
    "model_mlp = MLPClassifier(hidden_layer_sizes=(100,100,100),batch_size=10,learning_rate_init=0.01,max_iter=2000,random_state=10)\n",
    "model_mlp.fit(x_train,y_train)"
   ]
  },
  {
   "cell_type": "code",
   "execution_count": 70,
   "id": "369299c8",
   "metadata": {
    "id": "369299c8",
    "outputId": "50a2048e-984e-4f90-9635-4001372a8b5f"
   },
   "outputs": [
    {
     "data": {
      "text/plain": [
       "array([1, 0, 0, 0, 0, 0, 1, 0, 0, 1, 0, 0, 1, 1, 0, 1, 1, 1, 0, 0, 1, 0,\n",
       "       1, 1, 0, 0, 0, 1, 0, 0, 1, 0, 1, 0, 0, 1, 0, 0, 0, 0, 0, 0, 0, 0,\n",
       "       0, 0, 1, 0, 1, 1, 0, 1, 1, 0, 1, 0, 1, 0, 0, 1, 0, 0, 0, 0, 0, 0,\n",
       "       0, 0, 1, 1, 1, 0, 1, 1, 1, 0, 0, 0, 0, 0, 1, 0, 1, 1, 1, 0, 0, 0,\n",
       "       0, 0, 0, 1, 0, 1, 0, 0, 0, 0, 1, 0, 1, 1, 1, 1, 1, 0, 0, 1, 0, 1,\n",
       "       1, 1, 1, 0, 1, 0, 1, 0, 0, 0, 0, 1, 0, 0, 1, 1, 0, 1, 1, 0, 0, 0,\n",
       "       0, 0, 0, 0, 0, 0, 0, 1, 1, 0, 0, 0, 0, 1, 1, 0, 1, 0, 0, 1, 1, 1,\n",
       "       0, 1, 0, 1, 1, 1, 0, 0, 0, 1, 1, 0, 1, 0, 1, 1, 1, 0, 1, 0, 1, 1,\n",
       "       1, 1, 0, 0, 0, 1, 1, 1, 0, 1, 0, 0, 1, 1, 0, 1])"
      ]
     },
     "execution_count": 70,
     "metadata": {},
     "output_type": "execute_result"
    }
   ],
   "source": [
    "#testing the model\n",
    "\n",
    "y_pred_mlp=model_mlp.predict(x_test)\n",
    "y_pred_mlp"
   ]
  },
  {
   "cell_type": "code",
   "execution_count": 71,
   "id": "415de4e8",
   "metadata": {
    "id": "415de4e8",
    "outputId": "3503f73c-b4a1-4545-c923-78fae87809ff"
   },
   "outputs": [
    {
     "name": "stdout",
     "output_type": "stream",
     "text": [
      "0.7083333333333334\n",
      "              precision    recall  f1-score   support\n",
      "\n",
      "           0       0.72      0.76      0.74       103\n",
      "           1       0.70      0.65      0.67        89\n",
      "\n",
      "    accuracy                           0.71       192\n",
      "   macro avg       0.71      0.70      0.71       192\n",
      "weighted avg       0.71      0.71      0.71       192\n",
      "\n",
      "[[78 25]\n",
      " [31 58]]\n"
     ]
    }
   ],
   "source": [
    "#finding accuracy , classification report and confusion matrix\n",
    "\n",
    "print(accuracy_score(y_test,y_pred_mlp))\n",
    "print(classification_report(y_test,y_pred_mlp))\n",
    "print(confusion_matrix(y_test,y_pred_mlp))"
   ]
  },
  {
   "cell_type": "code",
   "execution_count": null,
   "id": "171fcc7a",
   "metadata": {
    "id": "171fcc7a"
   },
   "outputs": [],
   "source": []
  }
 ],
 "metadata": {
  "colab": {
   "provenance": []
  },
  "kernelspec": {
   "display_name": "Python 3 (ipykernel)",
   "language": "python",
   "name": "python3"
  },
  "language_info": {
   "codemirror_mode": {
    "name": "ipython",
    "version": 3
   },
   "file_extension": ".py",
   "mimetype": "text/x-python",
   "name": "python",
   "nbconvert_exporter": "python",
   "pygments_lexer": "ipython3",
   "version": "3.11.3"
  }
 },
 "nbformat": 4,
 "nbformat_minor": 5
}
